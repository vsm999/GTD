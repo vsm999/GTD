{
 "cells": [
  {
   "cell_type": "markdown",
   "metadata": {},
   "source": [
    "# Project GTD Dataset"
   ]
  },
  {
   "cell_type": "markdown",
   "metadata": {},
   "source": [
    "## 1. Brief summary of the Data\n",
    "Some necessary python libraries and the dataset are loaded. A brief summary of the dataset is drawn and also the columns/features to use are considered.\n"
   ]
  },
  {
   "cell_type": "code",
   "execution_count": 1,
   "metadata": {},
   "outputs": [
    {
     "name": "stdout",
     "output_type": "stream",
     "text": [
      "The dataset has 181691 samples with 135 features.\n"
     ]
    }
   ],
   "source": [
    "import pandas as pd\n",
    "import numpy as np\n",
    "import matplotlib\n",
    "\n",
    "gtd = pd.read_csv(\"globalterrorismdb_0718dist.csv\", encoding=\"ISO-8859-1\", low_memory=False)\n",
    "print(\"The dataset has {} samples with {} features.\".format(*gtd.shape))\n",
    "gtd.describe()\n",
    "r, c = gtd.shape\n"
   ]
  },
  {
   "cell_type": "code",
   "execution_count": 4,
   "metadata": {},
   "outputs": [
    {
     "data": {
      "text/plain": [
       "<matplotlib.axes._subplots.AxesSubplot at 0x203a86ab438>"
      ]
     },
     "execution_count": 4,
     "metadata": {},
     "output_type": "execute_result"
    },
    {
     "data": {
      "image/png": "[encoded data removed]",
      "text/plain": [
       "<Figure size 432x288 with 1 Axes>"
      ]
     },
     "metadata": {
      "needs_background": "light"
     },
     "output_type": "display_data"
    }
   ],
   "source": [
    "t1 = gtd.count()\n",
    "pd.Series.hist(t1, bins=20)"
   ]
  },
  {
   "cell_type": "markdown",
   "metadata": {},
   "source": [
    "### A look at the Dataset\n",
    " It is seen that about 47 columns contain information in atleast 85% of the samples.\n",
    " About 62 columns contain information in atmost 10% of the samples.\n",
    " So a majority of columns/features contain very less information.\n",
    " \n",
    " I would first look at those columns which have about 90% data."
   ]
  },
  {
   "cell_type": "code",
   "execution_count": 3,
   "metadata": {},
   "outputs": [
    {
     "name": "stdout",
     "output_type": "stream",
     "text": [
      "There are 45 columns with about 90% of data\n",
      " ['eventid', 'iyear', 'imonth', 'iday', 'extended', 'country', 'country_txt', 'region', 'region_txt', 'provstate', 'city', 'latitude', 'longitude', 'specificity', 'vicinity', 'crit1', 'crit2', 'crit3', 'doubtterr', 'multiple', 'success', 'suicide', 'attacktype1', 'attacktype1_txt', 'targtype1', 'targtype1_txt', 'targsubtype1', 'targsubtype1_txt', 'target1', 'natlty1', 'natlty1_txt', 'gname', 'guncertain1', 'individual', 'weaptype1', 'weaptype1_txt', 'nkill', 'nwound', 'property', 'ishostkid', 'dbsource', 'INT_LOG', 'INT_IDEO', 'INT_MISC', 'INT_ANY']\n"
     ]
    }
   ],
   "source": [
    "#Select columns which have atleast 90% of data\n",
    "t2 = t1[t1 >= np.floor(0.90*r)]\n",
    "t3 = list(t2.index)\n",
    "print('There are {} columns with about 90% of data\\n'.format(len(t3)), t3)"
   ]
  },
  {
   "cell_type": "markdown",
   "metadata": {},
   "source": [
    "### Selection of columns to use\n",
    "I would drop 'eventid', 'country', 'region', 'provstate', 'city', 'latitude', 'longitude', 'specificity', 'attacktype1',\n",
    "'weaptype1', 'targtype1', 'natlty1', 'dbsource', 'targsubtype1', 'targsubtype1_txt', 'target1', 'natlty1_txt'.\n"
   ]
  },
  {
   "cell_type": "code",
   "execution_count": 5,
   "metadata": {},
   "outputs": [
    {
     "name": "stdout",
     "output_type": "stream",
     "text": [
      "['iyear', 'imonth', 'iday', 'extended', 'country_txt', 'region_txt', 'vicinity', 'crit1', 'crit2', 'crit3', 'doubtterr', 'multiple', 'success', 'suicide', 'attacktype1_txt', 'targtype1_txt', 'natlty1_txt', 'gname', 'guncertain1', 'individual', 'weaptype1_txt', 'nkill', 'nwound', 'property', 'ishostkid', 'INT_LOG', 'INT_IDEO', 'INT_MISC', 'INT_ANY'] 29 45\n"
     ]
    }
   ],
   "source": [
    "#list containing columns to be dropped\n",
    "drop_lst = ['eventid', 'country', 'region', 'provstate', 'city', 'latitude', 'longitude', 'specificity', 'attacktype1',\n",
    "            'weaptype1', 'targtype1', 'natlty1', 'dbsource', 'targsubtype1', 'targsubtype1_txt', 'target1']\n",
    "\n",
    "t4 = t3.copy()\n",
    "\n",
    "for x in drop_lst:\n",
    "    t4.remove(x)\n",
    "#print the columns that will be used\n",
    "print(t4, len(t4), len(t3))"
   ]
  },
  {
   "cell_type": "code",
   "execution_count": 6,
   "metadata": {},
   "outputs": [
    {
     "name": "stdout",
     "output_type": "stream",
     "text": [
      "(181691, 29)\n"
     ]
    },
    {
     "data": {
      "text/plain": [
       "iyear              181691\n",
       "imonth             181691\n",
       "iday               181691\n",
       "extended           181691\n",
       "country_txt        181691\n",
       "region_txt         181691\n",
       "vicinity           181691\n",
       "crit1              181691\n",
       "crit2              181691\n",
       "crit3              181691\n",
       "doubtterr          181690\n",
       "multiple           181690\n",
       "success            181691\n",
       "suicide            181691\n",
       "attacktype1_txt    181691\n",
       "targtype1_txt      181691\n",
       "natlty1_txt        180132\n",
       "gname              181691\n",
       "guncertain1        181311\n",
       "individual         181691\n",
       "weaptype1_txt      181691\n",
       "nkill              171378\n",
       "nwound             165380\n",
       "property           181691\n",
       "ishostkid          181513\n",
       "INT_LOG            181691\n",
       "INT_IDEO           181691\n",
       "INT_MISC           181691\n",
       "INT_ANY            181691\n",
       "dtype: int64"
      ]
     },
     "execution_count": 6,
     "metadata": {},
     "output_type": "execute_result"
    }
   ],
   "source": [
    "gtd2 = gtd[t4]\n",
    "print(gtd2.shape)\n",
    "gtd2.count()"
   ]
  },
  {
   "cell_type": "markdown",
   "metadata": {},
   "source": [
    "### There is some data missing in the above selection, those samples will be dropped"
   ]
  },
  {
   "cell_type": "code",
   "execution_count": 7,
   "metadata": {},
   "outputs": [
    {
     "name": "stdout",
     "output_type": "stream",
     "text": [
      "(162786, 29)\n"
     ]
    },
    {
     "data": {
      "text/plain": [
       "iyear              162786\n",
       "imonth             162786\n",
       "iday               162786\n",
       "extended           162786\n",
       "country_txt        162786\n",
       "region_txt         162786\n",
       "vicinity           162786\n",
       "crit1              162786\n",
       "crit2              162786\n",
       "crit3              162786\n",
       "doubtterr          162786\n",
       "multiple           162786\n",
       "success            162786\n",
       "suicide            162786\n",
       "attacktype1_txt    162786\n",
       "targtype1_txt      162786\n",
       "natlty1_txt        162786\n",
       "gname              162786\n",
       "guncertain1        162786\n",
       "individual         162786\n",
       "weaptype1_txt      162786\n",
       "nkill              162786\n",
       "nwound             162786\n",
       "property           162786\n",
       "ishostkid          162786\n",
       "INT_LOG            162786\n",
       "INT_IDEO           162786\n",
       "INT_MISC           162786\n",
       "INT_ANY            162786\n",
       "dtype: int64"
      ]
     },
     "execution_count": 7,
     "metadata": {},
     "output_type": "execute_result"
    }
   ],
   "source": [
    "gtd3 = gtd2.dropna()\n",
    "print(gtd3.shape)\n",
    "gtd3.count()"
   ]
  },
  {
   "cell_type": "code",
   "execution_count": 8,
   "metadata": {},
   "outputs": [
    {
     "name": "stdout",
     "output_type": "stream",
     "text": [
      "0.8959 part of original data will be used.\n"
     ]
    }
   ],
   "source": [
    "print('{:.4f} part of original data will be used.'.format(len(gtd3)/len(gtd)))"
   ]
  },
  {
   "cell_type": "markdown",
   "metadata": {},
   "source": [
    "## 2. Exploring the Data \n",
    "\n",
    " A look at summary of different columns, time evolution of different data worldwide."
   ]
  },
  {
   "cell_type": "code",
   "execution_count": 9,
   "metadata": {},
   "outputs": [
    {
     "data": {
      "text/html": [
       "<div>\n",
       "<style scoped>\n",
       "    .dataframe tbody tr th:only-of-type {\n",
       "        vertical-align: middle;\n",
       "    }\n",
       "\n",
       "    .dataframe tbody tr th {\n",
       "        vertical-align: top;\n",
       "    }\n",
       "\n",
       "    .dataframe thead th {\n",
       "        text-align: right;\n",
       "    }\n",
       "</style>\n",
       "<table border=\"1\" class=\"dataframe\">\n",
       "  <thead>\n",
       "    <tr style=\"text-align: right;\">\n",
       "      <th></th>\n",
       "      <th>iyear</th>\n",
       "      <th>doubtterr</th>\n",
       "      <th>multiple</th>\n",
       "      <th>success</th>\n",
       "      <th>suicide</th>\n",
       "      <th>individual</th>\n",
       "      <th>nkill</th>\n",
       "      <th>nwound</th>\n",
       "    </tr>\n",
       "  </thead>\n",
       "  <tbody>\n",
       "    <tr>\n",
       "      <th>0</th>\n",
       "      <td>1970</td>\n",
       "      <td>0.0</td>\n",
       "      <td>0.0</td>\n",
       "      <td>1</td>\n",
       "      <td>0</td>\n",
       "      <td>0</td>\n",
       "      <td>1.0</td>\n",
       "      <td>0.0</td>\n",
       "    </tr>\n",
       "    <tr>\n",
       "      <th>1</th>\n",
       "      <td>1970</td>\n",
       "      <td>0.0</td>\n",
       "      <td>0.0</td>\n",
       "      <td>1</td>\n",
       "      <td>0</td>\n",
       "      <td>0</td>\n",
       "      <td>0.0</td>\n",
       "      <td>0.0</td>\n",
       "    </tr>\n",
       "    <tr>\n",
       "      <th>2</th>\n",
       "      <td>1970</td>\n",
       "      <td>0.0</td>\n",
       "      <td>0.0</td>\n",
       "      <td>1</td>\n",
       "      <td>0</td>\n",
       "      <td>0</td>\n",
       "      <td>1.0</td>\n",
       "      <td>0.0</td>\n",
       "    </tr>\n",
       "    <tr>\n",
       "      <th>5</th>\n",
       "      <td>1970</td>\n",
       "      <td>0.0</td>\n",
       "      <td>0.0</td>\n",
       "      <td>1</td>\n",
       "      <td>0</td>\n",
       "      <td>0</td>\n",
       "      <td>0.0</td>\n",
       "      <td>0.0</td>\n",
       "    </tr>\n",
       "    <tr>\n",
       "      <th>6</th>\n",
       "      <td>1970</td>\n",
       "      <td>0.0</td>\n",
       "      <td>0.0</td>\n",
       "      <td>0</td>\n",
       "      <td>0</td>\n",
       "      <td>0</td>\n",
       "      <td>0.0</td>\n",
       "      <td>0.0</td>\n",
       "    </tr>\n",
       "  </tbody>\n",
       "</table>\n",
       "</div>"
      ],
      "text/plain": [
       "   iyear  doubtterr  multiple  success  suicide  individual  nkill  nwound\n",
       "0   1970        0.0       0.0        1        0           0    1.0     0.0\n",
       "1   1970        0.0       0.0        1        0           0    0.0     0.0\n",
       "2   1970        0.0       0.0        1        0           0    1.0     0.0\n",
       "5   1970        0.0       0.0        1        0           0    0.0     0.0\n",
       "6   1970        0.0       0.0        0        0           0    0.0     0.0"
      ]
     },
     "execution_count": 9,
     "metadata": {},
     "output_type": "execute_result"
    }
   ],
   "source": [
    "data_1 = gtd3.loc[:,['iyear','doubtterr','multiple','success','suicide','individual','nkill','nwound']]\n",
    "r2, c2 = data_1.shape\n",
    "data_1.head()"
   ]
  },
  {
   "cell_type": "markdown",
   "metadata": {},
   "source": [
    "### A look into pattern of terrorist incidents over time\n",
    "\n",
    "Graphs and important Observations are give below."
   ]
  },
  {
   "cell_type": "code",
   "execution_count": 11,
   "metadata": {},
   "outputs": [
    {
     "name": "stdout",
     "output_type": "stream",
     "text": [
      "(47, 9)\n"
     ]
    }
   ],
   "source": [
    "#Get cumulative data on yearly basis\n",
    "full_yr_lst=np.zeros([1,c2])\n",
    "yr_lst = np.array(data_1['iyear'].unique())\n",
    "yr_lst = np.sort(yr_lst)\n",
    "for yrs in data_1['iyear'].unique():\n",
    "    yr_dat = data_1[data_1.iyear == yrs]\n",
    "    tv1 = np.array(yr_dat.sum())\n",
    "    tv1[0]=len(yr_dat)\n",
    "    full_yr_lst = np.vstack((full_yr_lst,tv1))\n",
    "    \n",
    "full_yr_lst = np.delete(full_yr_lst, 0, 0)\n",
    "full_yr_lst = np.hstack((np.reshape(yr_lst,(-1,1)), full_yr_lst))\n",
    "print(full_yr_lst.shape)"
   ]
  },
  {
   "cell_type": "code",
   "execution_count": 12,
   "metadata": {},
   "outputs": [
    {
     "data": {
      "text/html": [
       "<div>\n",
       "<style scoped>\n",
       "    .dataframe tbody tr th:only-of-type {\n",
       "        vertical-align: middle;\n",
       "    }\n",
       "\n",
       "    .dataframe tbody tr th {\n",
       "        vertical-align: top;\n",
       "    }\n",
       "\n",
       "    .dataframe thead th {\n",
       "        text-align: right;\n",
       "    }\n",
       "</style>\n",
       "<table border=\"1\" class=\"dataframe\">\n",
       "  <thead>\n",
       "    <tr style=\"text-align: right;\">\n",
       "      <th></th>\n",
       "      <th>iyear</th>\n",
       "      <th>num incidents</th>\n",
       "      <th>doubtterr</th>\n",
       "      <th>multiple</th>\n",
       "      <th>success</th>\n",
       "      <th>suicide</th>\n",
       "      <th>individual</th>\n",
       "      <th>nkill</th>\n",
       "      <th>nwound</th>\n",
       "      <th>kipy</th>\n",
       "      <th>wipy</th>\n",
       "    </tr>\n",
       "  </thead>\n",
       "  <tbody>\n",
       "    <tr>\n",
       "      <th>0</th>\n",
       "      <td>1970.0</td>\n",
       "      <td>595.0</td>\n",
       "      <td>-88.0</td>\n",
       "      <td>89.0</td>\n",
       "      <td>495.0</td>\n",
       "      <td>0.0</td>\n",
       "      <td>1.0</td>\n",
       "      <td>155.0</td>\n",
       "      <td>212.0</td>\n",
       "      <td>0.356303</td>\n",
       "      <td>0.260504</td>\n",
       "    </tr>\n",
       "    <tr>\n",
       "      <th>1</th>\n",
       "      <td>1971.0</td>\n",
       "      <td>326.0</td>\n",
       "      <td>-243.0</td>\n",
       "      <td>26.0</td>\n",
       "      <td>282.0</td>\n",
       "      <td>0.0</td>\n",
       "      <td>2.0</td>\n",
       "      <td>37.0</td>\n",
       "      <td>82.0</td>\n",
       "      <td>0.251534</td>\n",
       "      <td>0.113497</td>\n",
       "    </tr>\n",
       "    <tr>\n",
       "      <th>2</th>\n",
       "      <td>1972.0</td>\n",
       "      <td>241.0</td>\n",
       "      <td>-124.0</td>\n",
       "      <td>92.0</td>\n",
       "      <td>135.0</td>\n",
       "      <td>0.0</td>\n",
       "      <td>1.0</td>\n",
       "      <td>193.0</td>\n",
       "      <td>409.0</td>\n",
       "      <td>1.697095</td>\n",
       "      <td>0.800830</td>\n",
       "    </tr>\n",
       "    <tr>\n",
       "      <th>3</th>\n",
       "      <td>1973.0</td>\n",
       "      <td>227.0</td>\n",
       "      <td>-373.0</td>\n",
       "      <td>6.0</td>\n",
       "      <td>198.0</td>\n",
       "      <td>0.0</td>\n",
       "      <td>0.0</td>\n",
       "      <td>118.0</td>\n",
       "      <td>493.0</td>\n",
       "      <td>2.171806</td>\n",
       "      <td>0.519824</td>\n",
       "    </tr>\n",
       "    <tr>\n",
       "      <th>4</th>\n",
       "      <td>1974.0</td>\n",
       "      <td>313.0</td>\n",
       "      <td>-346.0</td>\n",
       "      <td>11.0</td>\n",
       "      <td>285.0</td>\n",
       "      <td>0.0</td>\n",
       "      <td>2.0</td>\n",
       "      <td>259.0</td>\n",
       "      <td>805.0</td>\n",
       "      <td>2.571885</td>\n",
       "      <td>0.827476</td>\n",
       "    </tr>\n",
       "  </tbody>\n",
       "</table>\n",
       "</div>"
      ],
      "text/plain": [
       "    iyear  num incidents  doubtterr  multiple  success  suicide  individual  \\\n",
       "0  1970.0          595.0      -88.0      89.0    495.0      0.0         1.0   \n",
       "1  1971.0          326.0     -243.0      26.0    282.0      0.0         2.0   \n",
       "2  1972.0          241.0     -124.0      92.0    135.0      0.0         1.0   \n",
       "3  1973.0          227.0     -373.0       6.0    198.0      0.0         0.0   \n",
       "4  1974.0          313.0     -346.0      11.0    285.0      0.0         2.0   \n",
       "\n",
       "   nkill  nwound      kipy      wipy  \n",
       "0  155.0   212.0  0.356303  0.260504  \n",
       "1   37.0    82.0  0.251534  0.113497  \n",
       "2  193.0   409.0  1.697095  0.800830  \n",
       "3  118.0   493.0  2.171806  0.519824  \n",
       "4  259.0   805.0  2.571885  0.827476  "
      ]
     },
     "execution_count": 12,
     "metadata": {},
     "output_type": "execute_result"
    }
   ],
   "source": [
    "#Calculate people killed and wounded per incident per year\n",
    "kipy = full_yr_lst[:,-1]/full_yr_lst[:,1]\n",
    "wipy = full_yr_lst[:,-2]/full_yr_lst[:,1]\n",
    "\n",
    "full_yr_lst = np.hstack((full_yr_lst,np.hstack((np.reshape(kipy,(-1,1)),np.reshape(wipy,(-1,1))))))\n",
    "clms = ['iyear','num incidents','doubtterr','multiple','success','suicide','individual','nkill','nwound','kipy','wipy']\n",
    "full_yr_df = pd.DataFrame(full_yr_lst, columns=clms)\n",
    "full_yr_df.head()"
   ]
  },
  {
   "cell_type": "code",
   "execution_count": 13,
   "metadata": {},
   "outputs": [
    {
     "data": {
      "text/html": [
       "<div>\n",
       "<style scoped>\n",
       "    .dataframe tbody tr th:only-of-type {\n",
       "        vertical-align: middle;\n",
       "    }\n",
       "\n",
       "    .dataframe tbody tr th {\n",
       "        vertical-align: top;\n",
       "    }\n",
       "\n",
       "    .dataframe thead th {\n",
       "        text-align: right;\n",
       "    }\n",
       "</style>\n",
       "<table border=\"1\" class=\"dataframe\">\n",
       "  <thead>\n",
       "    <tr style=\"text-align: right;\">\n",
       "      <th></th>\n",
       "      <th>iyear</th>\n",
       "      <th>num incidents</th>\n",
       "      <th>doubtterr</th>\n",
       "      <th>multiple</th>\n",
       "      <th>success</th>\n",
       "      <th>suicide</th>\n",
       "      <th>individual</th>\n",
       "      <th>nkill</th>\n",
       "      <th>nwound</th>\n",
       "      <th>kipy</th>\n",
       "      <th>wipy</th>\n",
       "    </tr>\n",
       "  </thead>\n",
       "  <tbody>\n",
       "    <tr>\n",
       "      <th>42</th>\n",
       "      <td>2013.0</td>\n",
       "      <td>11341.0</td>\n",
       "      <td>1838.0</td>\n",
       "      <td>2221.0</td>\n",
       "      <td>9860.0</td>\n",
       "      <td>600.0</td>\n",
       "      <td>23.0</td>\n",
       "      <td>19892.0</td>\n",
       "      <td>37642.0</td>\n",
       "      <td>3.319108</td>\n",
       "      <td>1.753990</td>\n",
       "    </tr>\n",
       "    <tr>\n",
       "      <th>43</th>\n",
       "      <td>2014.0</td>\n",
       "      <td>14792.0</td>\n",
       "      <td>2801.0</td>\n",
       "      <td>2516.0</td>\n",
       "      <td>13019.0</td>\n",
       "      <td>661.0</td>\n",
       "      <td>38.0</td>\n",
       "      <td>27561.0</td>\n",
       "      <td>40970.0</td>\n",
       "      <td>2.769740</td>\n",
       "      <td>1.863237</td>\n",
       "    </tr>\n",
       "    <tr>\n",
       "      <th>44</th>\n",
       "      <td>2015.0</td>\n",
       "      <td>13246.0</td>\n",
       "      <td>2367.0</td>\n",
       "      <td>2136.0</td>\n",
       "      <td>11172.0</td>\n",
       "      <td>783.0</td>\n",
       "      <td>46.0</td>\n",
       "      <td>28790.0</td>\n",
       "      <td>43844.0</td>\n",
       "      <td>3.309980</td>\n",
       "      <td>2.173486</td>\n",
       "    </tr>\n",
       "    <tr>\n",
       "      <th>45</th>\n",
       "      <td>2016.0</td>\n",
       "      <td>12168.0</td>\n",
       "      <td>2109.0</td>\n",
       "      <td>2038.0</td>\n",
       "      <td>9810.0</td>\n",
       "      <td>849.0</td>\n",
       "      <td>76.0</td>\n",
       "      <td>29234.0</td>\n",
       "      <td>39733.0</td>\n",
       "      <td>3.265368</td>\n",
       "      <td>2.402531</td>\n",
       "    </tr>\n",
       "    <tr>\n",
       "      <th>46</th>\n",
       "      <td>2017.0</td>\n",
       "      <td>9721.0</td>\n",
       "      <td>1945.0</td>\n",
       "      <td>1738.0</td>\n",
       "      <td>7666.0</td>\n",
       "      <td>774.0</td>\n",
       "      <td>100.0</td>\n",
       "      <td>23168.0</td>\n",
       "      <td>24771.0</td>\n",
       "      <td>2.548195</td>\n",
       "      <td>2.383294</td>\n",
       "    </tr>\n",
       "  </tbody>\n",
       "</table>\n",
       "</div>"
      ],
      "text/plain": [
       "     iyear  num incidents  doubtterr  multiple  success  suicide  individual  \\\n",
       "42  2013.0        11341.0     1838.0    2221.0   9860.0    600.0        23.0   \n",
       "43  2014.0        14792.0     2801.0    2516.0  13019.0    661.0        38.0   \n",
       "44  2015.0        13246.0     2367.0    2136.0  11172.0    783.0        46.0   \n",
       "45  2016.0        12168.0     2109.0    2038.0   9810.0    849.0        76.0   \n",
       "46  2017.0         9721.0     1945.0    1738.0   7666.0    774.0       100.0   \n",
       "\n",
       "      nkill   nwound      kipy      wipy  \n",
       "42  19892.0  37642.0  3.319108  1.753990  \n",
       "43  27561.0  40970.0  2.769740  1.863237  \n",
       "44  28790.0  43844.0  3.309980  2.173486  \n",
       "45  29234.0  39733.0  3.265368  2.402531  \n",
       "46  23168.0  24771.0  2.548195  2.383294  "
      ]
     },
     "execution_count": 13,
     "metadata": {},
     "output_type": "execute_result"
    }
   ],
   "source": [
    "full_yr_df.tail()"
   ]
  },
  {
   "cell_type": "code",
   "execution_count": 14,
   "metadata": {},
   "outputs": [
    {
     "name": "stdout",
     "output_type": "stream",
     "text": [
      "348677.0 518877.0\n"
     ]
    }
   ],
   "source": [
    "#number of people killed and injured respectively in all the incidents\n",
    "print(full_yr_df['nkill'].sum(), full_yr_df['nwound'].sum())"
   ]
  },
  {
   "cell_type": "code",
   "execution_count": 15,
   "metadata": {},
   "outputs": [
    {
     "data": {
      "text/html": [
       "<div>\n",
       "<style scoped>\n",
       "    .dataframe tbody tr th:only-of-type {\n",
       "        vertical-align: middle;\n",
       "    }\n",
       "\n",
       "    .dataframe tbody tr th {\n",
       "        vertical-align: top;\n",
       "    }\n",
       "\n",
       "    .dataframe thead th {\n",
       "        text-align: right;\n",
       "    }\n",
       "</style>\n",
       "<table border=\"1\" class=\"dataframe\">\n",
       "  <thead>\n",
       "    <tr style=\"text-align: right;\">\n",
       "      <th></th>\n",
       "      <th>iyear</th>\n",
       "      <th>num incidents</th>\n",
       "      <th>doubtterr</th>\n",
       "      <th>multiple</th>\n",
       "      <th>success</th>\n",
       "      <th>suicide</th>\n",
       "      <th>individual</th>\n",
       "      <th>nkill</th>\n",
       "      <th>nwound</th>\n",
       "      <th>kipy</th>\n",
       "      <th>wipy</th>\n",
       "    </tr>\n",
       "  </thead>\n",
       "  <tbody>\n",
       "    <tr>\n",
       "      <th>0</th>\n",
       "      <td>1970.0</td>\n",
       "      <td>595.0</td>\n",
       "      <td>-1.0</td>\n",
       "      <td>89.0</td>\n",
       "      <td>495.0</td>\n",
       "      <td>0.0</td>\n",
       "      <td>1.0</td>\n",
       "      <td>155.0</td>\n",
       "      <td>212.0</td>\n",
       "      <td>0.356303</td>\n",
       "      <td>0.260504</td>\n",
       "    </tr>\n",
       "    <tr>\n",
       "      <th>1</th>\n",
       "      <td>1971.0</td>\n",
       "      <td>326.0</td>\n",
       "      <td>-1.0</td>\n",
       "      <td>26.0</td>\n",
       "      <td>282.0</td>\n",
       "      <td>0.0</td>\n",
       "      <td>2.0</td>\n",
       "      <td>37.0</td>\n",
       "      <td>82.0</td>\n",
       "      <td>0.251534</td>\n",
       "      <td>0.113497</td>\n",
       "    </tr>\n",
       "    <tr>\n",
       "      <th>2</th>\n",
       "      <td>1972.0</td>\n",
       "      <td>241.0</td>\n",
       "      <td>-1.0</td>\n",
       "      <td>92.0</td>\n",
       "      <td>135.0</td>\n",
       "      <td>0.0</td>\n",
       "      <td>1.0</td>\n",
       "      <td>193.0</td>\n",
       "      <td>409.0</td>\n",
       "      <td>1.697095</td>\n",
       "      <td>0.800830</td>\n",
       "    </tr>\n",
       "    <tr>\n",
       "      <th>3</th>\n",
       "      <td>1973.0</td>\n",
       "      <td>227.0</td>\n",
       "      <td>-1.0</td>\n",
       "      <td>6.0</td>\n",
       "      <td>198.0</td>\n",
       "      <td>0.0</td>\n",
       "      <td>0.0</td>\n",
       "      <td>118.0</td>\n",
       "      <td>493.0</td>\n",
       "      <td>2.171806</td>\n",
       "      <td>0.519824</td>\n",
       "    </tr>\n",
       "    <tr>\n",
       "      <th>4</th>\n",
       "      <td>1974.0</td>\n",
       "      <td>313.0</td>\n",
       "      <td>-1.0</td>\n",
       "      <td>11.0</td>\n",
       "      <td>285.0</td>\n",
       "      <td>0.0</td>\n",
       "      <td>2.0</td>\n",
       "      <td>259.0</td>\n",
       "      <td>805.0</td>\n",
       "      <td>2.571885</td>\n",
       "      <td>0.827476</td>\n",
       "    </tr>\n",
       "  </tbody>\n",
       "</table>\n",
       "</div>"
      ],
      "text/plain": [
       "    iyear  num incidents  doubtterr  multiple  success  suicide  individual  \\\n",
       "0  1970.0          595.0       -1.0      89.0    495.0      0.0         1.0   \n",
       "1  1971.0          326.0       -1.0      26.0    282.0      0.0         2.0   \n",
       "2  1972.0          241.0       -1.0      92.0    135.0      0.0         1.0   \n",
       "3  1973.0          227.0       -1.0       6.0    198.0      0.0         0.0   \n",
       "4  1974.0          313.0       -1.0      11.0    285.0      0.0         2.0   \n",
       "\n",
       "   nkill  nwound      kipy      wipy  \n",
       "0  155.0   212.0  0.356303  0.260504  \n",
       "1   37.0    82.0  0.251534  0.113497  \n",
       "2  193.0   409.0  1.697095  0.800830  \n",
       "3  118.0   493.0  2.171806  0.519824  \n",
       "4  259.0   805.0  2.571885  0.827476  "
      ]
     },
     "execution_count": 15,
     "metadata": {},
     "output_type": "execute_result"
    }
   ],
   "source": [
    "#Adjust values of 'doubtterr' for plotting purpose\n",
    "full_yr_df.loc[full_yr_df.doubtterr < 0,'doubtterr'] = -1\n",
    "full_yr_df.head()"
   ]
  },
  {
   "cell_type": "code",
   "execution_count": 16,
   "metadata": {},
   "outputs": [
    {
     "data": {
      "image/png": "[encoded data removed]",
      "text/plain": [
       "<Figure size 432x288 with 6 Axes>"
      ]
     },
     "metadata": {
      "needs_background": "light"
     },
     "output_type": "display_data"
    }
   ],
   "source": [
    "#plot above results\n",
    "import matplotlib.pyplot as plt\n",
    "plt.figure(1)\n",
    "plt.subplot(231)\n",
    "ax = plt.gca()\n",
    "full_yr_df.plot(kind='line',x='iyear',y='num incidents',ax=ax)\n",
    "full_yr_df.plot(kind='line',x='iyear',y='success',color='red',ax=ax)\n",
    "plt.subplot(232)\n",
    "ax = plt.gca()\n",
    "full_yr_df.plot(kind='line',x='iyear',y='nkill',ax=ax)\n",
    "full_yr_df.plot(kind='line',x='iyear',y='nwound',color='red',ax=ax)\n",
    "plt.subplot(233)\n",
    "ax = plt.gca()\n",
    "full_yr_df.plot(kind='line',x='iyear',y='multiple',ax=ax)\n",
    "full_yr_df.plot(kind='line',x='iyear',y='doubtterr',color='red',ax=ax)\n",
    "plt.subplot(234)\n",
    "ax = plt.gca()\n",
    "full_yr_df.plot(kind='line',x='iyear',y='individual',ax=ax)\n",
    "#full_yr_df.plot(kind='line',x='iyear',y='suicide',color='red',ax=ax)\n",
    "plt.subplot(235)\n",
    "ax = plt.gca()\n",
    "#full_yr_df.plot(kind='line',x='iyear',y='nkill'/'num incidents',ax=ax)\n",
    "full_yr_df.plot(kind='line',x='iyear',y='suicide',color='red',ax=ax)\n",
    "plt.subplot(236)\n",
    "ax = plt.gca()\n",
    "full_yr_df.plot(kind='line',x='iyear',y='kipy',ax=ax)\n",
    "full_yr_df.plot(kind='line',x='iyear',y='wipy',color='red',ax=ax)\n",
    "\n",
    "plt.subplots_adjust(top=1.2,bottom=0,left=0.1,right=2.2,hspace=0.25,wspace=0.25)\n",
    "plt.show()"
   ]
  },
  {
   "cell_type": "markdown",
   "metadata": {},
   "source": [
    "### Observations:\n",
    "\n",
    "-The number of incidents and success in those have increased till 1991, decreased till about 2004, increased rapidly till 2015, then has decreased in 2016 and 2017. People killed and wounded also show similar behaviour. \n",
    "\n",
    "-Interestingly, multiple attacks have increased heavily from 2010 which strangely correlates with doubt as to whether the incident is an act of terrorism. \n",
    "\n",
    "-Number of unidentified individuals has risen exponentially from 2010.\n",
    "\n",
    "-Suicide attackers have increased exponentially from 2000.\n",
    "\n",
    "-Number of people killed per incident has decreased to about 2.5 after seeing levels of 6-12.\n",
    "\n",
    "-Number of people injured per incident has decreased to about 2.5 from levels of 3."
   ]
  },
  {
   "cell_type": "markdown",
   "metadata": {},
   "source": [
    "### Statistics of terrorist incidents"
   ]
  },
  {
   "cell_type": "markdown",
   "metadata": {},
   "source": [
    "### Summary\n",
    "(The details are below, only the summary is captured here)\n",
    "\n",
    "A total of 162786 terrorist incidences have affected 202 countries resulting in 348677 people getting killed and 518877 people getting injured over 47 years. The 5 highest affected countries have suffered 41.4% of all attacks. 54.25% of all incidents have occured in Middle East & North Africa and South Asia Regions. 92.86% of incidents have occured in the mentioned cities. \n",
    "\n",
    "88.3% of all incidents are outside the context of legitimate warfare activities. Over 98% of all incidents are aimed at attaining a political, economic, religious, or social goal and have evidence of an intention to coerce, intimidate, or convey some other message to a larger audience. \n",
    "\n",
    "About 50% of all incidences are cases of Bombing/Explosion, 23.33% are Armed Assault and about 11% are Assassinations. 23.46% of attacks have been targeted at Private Citizens & Property, 28.65% have been targeted at Military and Police and 23.7% have been targeted at Government and Businessess.\n",
    "\n",
    "Explosives and Firearms are the main weapons used constituting 83.87% of the attacks. Properties have been damaged in atleast 51.46% of incidences. \n",
    "\n",
    "The victims were taken hostage or kidnapped in 6.1% of cases. \n",
    "In more than 50% of the cases, the nationality of the perpetrator group or the nationality of the target/victim is unknown."
   ]
  },
  {
   "cell_type": "markdown",
   "metadata": {},
   "source": [
    "About 52.58% of all incidents have been attributed to 3346 known terrorist organizations. The sources of the remaining 47.42% of incidences are unknown. (77189-Unknown, 85597-Known)\n",
    "\n",
    "The above attribution poses a challenge for any classification task as the data is highly unbalanced. I am going to try 2 types of classification: \n",
    "1. 2 class classification: incident can be attributed to known organization or not. \n",
    "2. Many class classification: to whom the incident can be attributed to among the known incidents. For this purpose, I will use only first 20 terrorist organizations which have considerable amount of data."
   ]
  },
  {
   "cell_type": "code",
   "execution_count": 17,
   "metadata": {},
   "outputs": [],
   "source": [
    "data_an = []\n",
    "for ii in range(len(t4)):\n",
    "    data_an.append(gtd3[t4[ii]].value_counts())"
   ]
  },
  {
   "cell_type": "code",
   "execution_count": 18,
   "metadata": {},
   "outputs": [
    {
     "name": "stdout",
     "output_type": "stream",
     "text": [
      "202\n",
      "Iraq           23278\n",
      "Pakistan       13811\n",
      "India          11460\n",
      "Afghanistan    11221\n",
      "Colombia        7673\n",
      "Name: country_txt, dtype: int64\n"
     ]
    }
   ],
   "source": [
    "print(data_an[4].count())#number of countries affected by terrorist incidents\n",
    "print(data_an[4].head())#5 highest affected countries have suffered 41.4% of all attacks"
   ]
  },
  {
   "cell_type": "code",
   "execution_count": 19,
   "metadata": {},
   "outputs": [
    {
     "name": "stdout",
     "output_type": "stream",
     "text": [
      "1     13306\n",
      "2     12453\n",
      "3     13500\n",
      "4     13530\n",
      "5     14899\n",
      "6     13793\n",
      "7     14678\n",
      "8     14233\n",
      "9     12843\n",
      "10    13971\n",
      "11    13514\n",
      "12    12057\n",
      "Name: imonth, dtype: int64\n"
     ]
    }
   ],
   "source": [
    "#monthy distribution of incidents\n",
    "data_an[1].sort_index(inplace=True)\n",
    "print(data_an[1][1:])"
   ]
  },
  {
   "cell_type": "code",
   "execution_count": 20,
   "metadata": {},
   "outputs": [
    {
     "data": {
      "image/png": "[encoded data removed]",
      "text/plain": [
       "<Figure size 432x288 with 2 Axes>"
      ]
     },
     "metadata": {
      "needs_background": "light"
     },
     "output_type": "display_data"
    }
   ],
   "source": [
    "#plot of monthly and datewise distribution of terrorist incidents\n",
    "plt.figure(1)\n",
    "plt.subplot(121)\n",
    "ax=plt.gca()\n",
    "data_an[1].sort_index(inplace=True)\n",
    "data_an[1][1:].plot(kind='line', x=data_an[1].index, y=data_an[1].values)\n",
    "plt.title('total monthly incidents')\n",
    "plt.subplot(122)\n",
    "ax=plt.gca()\n",
    "data_an[2].sort_index(inplace=True)\n",
    "data_an[2][1:].plot(kind='line', x=data_an[2].index, y=data_an[2].values)\n",
    "plt.title('total datewise incidents')\n",
    "plt.show()"
   ]
  },
  {
   "cell_type": "code",
   "execution_count": 21,
   "metadata": {},
   "outputs": [
    {
     "name": "stdout",
     "output_type": "stream",
     "text": [
      "0    157354\n",
      "1      5432\n",
      "Name: extended, dtype: int64\n"
     ]
    }
   ],
   "source": [
    "print(data_an[3])#about 3.33% of terrorist incidents have gone beyond 1 day"
   ]
  },
  {
   "cell_type": "code",
   "execution_count": 22,
   "metadata": {},
   "outputs": [
    {
     "name": "stdout",
     "output_type": "stream",
     "text": [
      "Middle East & North Africa     46177\n",
      "South Asia                     42141\n",
      "South America                  17005\n",
      "Sub-Saharan Africa             14211\n",
      "Western Europe                 13890\n",
      "Southeast Asia                 11969\n",
      "Central America & Caribbean     7822\n",
      "Eastern Europe                  4834\n",
      "North America                   3167\n",
      "East Asia                        747\n",
      "Central Asia                     551\n",
      "Australasia & Oceania            272\n",
      "Name: region_txt, dtype: int64\n"
     ]
    }
   ],
   "source": [
    "print(data_an[5])#Affected Regions"
   ]
  },
  {
   "cell_type": "code",
   "execution_count": 23,
   "metadata": {},
   "outputs": [
    {
     "name": "stdout",
     "output_type": "stream",
     "text": [
      " 0    151179\n",
      " 1     11574\n",
      "-9        33\n",
      "Name: vicinity, dtype: int64\n"
     ]
    }
   ],
   "source": [
    "print(data_an[6])#vicinity of incidents"
   ]
  },
  {
   "cell_type": "code",
   "execution_count": 24,
   "metadata": {},
   "outputs": [
    {
     "name": "stdout",
     "output_type": "stream",
     "text": [
      "[1    160848\n",
      "0      1938\n",
      "Name: crit1, dtype: int64, 1    161743\n",
      "0      1043\n",
      "Name: crit2, dtype: int64, 1    143755\n",
      "0     19031\n",
      "Name: crit3, dtype: int64]\n"
     ]
    }
   ],
   "source": [
    "print(data_an[7:10])#critereon of incidents"
   ]
  },
  {
   "cell_type": "code",
   "execution_count": 25,
   "metadata": {},
   "outputs": [
    {
     "name": "stdout",
     "output_type": "stream",
     "text": [
      "Bombing/Explosion                      81055\n",
      "Armed Assault                          37993\n",
      "Assassination                          17862\n",
      "Facility/Infrastructure Attack          9564\n",
      "Hostage Taking (Kidnapping)             7960\n",
      "Unknown                                 6021\n",
      "Unarmed Assault                          910\n",
      "Hostage Taking (Barricade Incident)      836\n",
      "Hijacking                                585\n",
      "Name: attacktype1_txt, dtype: int64\n"
     ]
    }
   ],
   "source": [
    "print(data_an[14])#type of attack"
   ]
  },
  {
   "cell_type": "code",
   "execution_count": 26,
   "metadata": {},
   "outputs": [
    {
     "name": "stdout",
     "output_type": "stream",
     "text": [
      "Private Citizens & Property       38204\n",
      "Military                          23810\n",
      "Police                            22842\n",
      "Government (General)              19966\n",
      "Business                          18618\n",
      "Transportation                     6284\n",
      "Utilities                          5325\n",
      "Unknown                            4747\n",
      "Religious Figures/Institutions     4182\n",
      "Educational Institution            4073\n",
      "Government (Diplomatic)            3324\n",
      "Journalists & Media                2668\n",
      "Terrorists/Non-State Militia       2655\n",
      "Violent Political Party            1763\n",
      "Airports & Aircraft                1196\n",
      "Telecommunication                   930\n",
      "NGO                                 873\n",
      "Tourists                            391\n",
      "Maritime                            284\n",
      "Food or Water Supply                270\n",
      "Abortion Related                    259\n",
      "Other                               122\n",
      "Name: targtype1_txt, dtype: int64\n"
     ]
    }
   ],
   "source": [
    "print(data_an[15])#target of attack"
   ]
  },
  {
   "cell_type": "code",
   "execution_count": 27,
   "metadata": {},
   "outputs": [
    {
     "name": "stdout",
     "output_type": "stream",
     "text": [
      "3347\n",
      "Unknown                                        77189\n",
      "Taliban                                         6652\n",
      "Islamic State of Iraq and the Levant (ISIL)     4719\n",
      "Shining Path (SL)                               4001\n",
      "New People's Army (NPA)                         2653\n",
      "Name: gname, dtype: int64\n"
     ]
    }
   ],
   "source": [
    "print(data_an[17].count())#num of terrorist groups\n",
    "print(data_an[17].head())"
   ]
  },
  {
   "cell_type": "code",
   "execution_count": 28,
   "metadata": {},
   "outputs": [
    {
     "name": "stdout",
     "output_type": "stream",
     "text": [
      "0.0    149094\n",
      "1.0     13692\n",
      "Name: guncertain1, dtype: int64\n"
     ]
    }
   ],
   "source": [
    "print(data_an[18].head())#Uncertainty of perpetrator attribution"
   ]
  },
  {
   "cell_type": "code",
   "execution_count": 29,
   "metadata": {},
   "outputs": [
    {
     "name": "stdout",
     "output_type": "stream",
     "text": [
      "Explosives                                                                     84923\n",
      "Firearms                                                                       51607\n",
      "Unknown                                                                        11963\n",
      "Incendiary                                                                     10193\n",
      "Melee                                                                           3344\n",
      "Chemical                                                                         300\n",
      "Sabotage Equipment                                                               137\n",
      "Vehicle (not to include vehicle-borne explosives, i.e., car or truck bombs)      132\n",
      "Other                                                                            109\n",
      "Fake Weapons                                                                      32\n",
      "Biological                                                                        32\n",
      "Radiological                                                                      14\n",
      "Name: weaptype1_txt, dtype: int64\n"
     ]
    }
   ],
   "source": [
    "print(data_an[20])#weapon used"
   ]
  },
  {
   "cell_type": "code",
   "execution_count": 30,
   "metadata": {},
   "outputs": [
    {
     "name": "stdout",
     "output_type": "stream",
     "text": [
      " 1    83772\n",
      " 0    59963\n",
      "-9    19051\n",
      "Name: property, dtype: int64\n"
     ]
    }
   ],
   "source": [
    "print(data_an[23])#damage to properties"
   ]
  },
  {
   "cell_type": "code",
   "execution_count": 31,
   "metadata": {},
   "outputs": [
    {
     "name": "stdout",
     "output_type": "stream",
     "text": [
      " 0.0    152642\n",
      " 1.0      9945\n",
      "-9.0       199\n",
      "Name: ishostkid, dtype: int64\n"
     ]
    }
   ],
   "source": [
    "print(data_an[24])#victims were taken hostages"
   ]
  },
  {
   "cell_type": "code",
   "execution_count": 32,
   "metadata": {},
   "outputs": [
    {
     "name": "stdout",
     "output_type": "stream",
     "text": [
      "[-9    85838\n",
      " 0    70680\n",
      " 1     6268\n",
      "Name: INT_LOG, dtype: int64, -9    85838\n",
      " 0    57463\n",
      " 1    19485\n",
      "Name: INT_IDEO, dtype: int64, 0    146493\n",
      "1     16293\n",
      "Name: INT_MISC, dtype: int64, -9    78523\n",
      " 0    53310\n",
      " 1    30953\n",
      "Name: INT_ANY, dtype: int64]\n"
     ]
    }
   ],
   "source": [
    "print(data_an[-4:])#Logistics, Ideology, Miscellaneous and any of these (international)"
   ]
  },
  {
   "cell_type": "markdown",
   "metadata": {},
   "source": [
    "### A look at the terrorist organization involved\n",
    "There are 3346 known terrorist organizations. Many of these have very few incidents attributed to them.\n",
    "\n",
    "The highest as well as lowest incidents attributed are shown below.\n",
    "\n",
    "Also the 20 organizations with highest number of terrors incidents attributed to them are shown below.\n",
    "\n",
    "77189 incidents have not been attributed to any known terrorist organizations."
   ]
  },
  {
   "cell_type": "code",
   "execution_count": 33,
   "metadata": {},
   "outputs": [
    {
     "name": "stdout",
     "output_type": "stream",
     "text": [
      "162786\n",
      "Unknown                                                   77189\n",
      "Taliban                                                    6652\n",
      "Islamic State of Iraq and the Levant (ISIL)                4719\n",
      "Shining Path (SL)                                          4001\n",
      "New People's Army (NPA)                                    2653\n",
      "Farabundo Marti National Liberation Front (FMLN)           2538\n",
      "Al-Shabaab                                                 2342\n",
      "Revolutionary Armed Forces of Colombia (FARC)              2302\n",
      "Kurdistan Workers' Party (PKK)                             2253\n",
      "Basque Fatherland and Freedom (ETA)                        1869\n",
      "Communist Party of India - Maoist (CPI-Maoist)             1822\n",
      "Boko Haram                                                 1756\n",
      "Irish Republican Army (IRA)                                1682\n",
      "Maoists                                                    1545\n",
      "Liberation Tigers of Tamil Eelam (LTTE)                    1529\n",
      "National Liberation Army of Colombia (ELN)                 1478\n",
      "Tehrik-i-Taliban Pakistan (TTP)                            1303\n",
      "Palestinians                                                951\n",
      "Al-Qaida in the Arabian Peninsula (AQAP)                    915\n",
      "Houthi extremists (Ansar Allah)                             826\n",
      "Manuel Rodriguez Patriotic Front (FPMR)                     759\n",
      "Sikh Extremists                                             704\n",
      "Al-Qaida in Iraq                                            605\n",
      "Muslim extremists                                           570\n",
      "Corsican National Liberation Front (FLNC)                   563\n",
      "Donetsk People's Republic                                   559\n",
      "African National Congress (South Africa)                    550\n",
      "Separatists                                                 547\n",
      "Tupac Amaru Revolutionary Movement (MRTA)                   506\n",
      "Abu Sayyaf Group (ASG)                                      483\n",
      "                                                          ...  \n",
      "Dainihon Yokuko Doshikai                                      1\n",
      "New Indigenous Army                                           1\n",
      "Sharivad 17 Tal-Al-Za'atar(Sept 17 Tal-Al-Za'atar)            1\n",
      "Civic United Front (CUF)                                      1\n",
      "Pemuda Pancasila                                              1\n",
      "Youth for Revolution                                          1\n",
      "Tunisian Armed Resistance                                     1\n",
      "Iraqi Islamic Vanguards for National Salvation (IIVNS)        1\n",
      "Civilian Joint Task Force (JTF)                               1\n",
      "June 16 Organization                                          1\n",
      "Free Lebanon                                                  1\n",
      "Liberals of Galilee                                           1\n",
      "Conspiracy of Vengeful Arsonists                              1\n",
      "Islamic Front for the Liberation of Bahrain                   1\n",
      "Movement for the Supremacy of Reason                          1\n",
      "Sons of the South (Shiite Muslim Group)                       1\n",
      "Charlot Jacquelin Militant Front                              1\n",
      "Free Fatherland Youth Guerrilla Army                          1\n",
      "Knights Templar (Caballeros Templarios)                       1\n",
      "Japanese Independence Patriotic Party                         1\n",
      "Retired Soldier                                               1\n",
      "Marxist Resistance Movement                                   1\n",
      "Patriotic Liberation Front (FPL)                              1\n",
      "Good Vision Party (India)                                     1\n",
      "Albanian Separatists                                          1\n",
      "Communist Brigades                                            1\n",
      "Militant Argentine Patriots                                   1\n",
      "Mawlawi and Mansour Group                                     1\n",
      "Pragatishil Tarai Mukti Morcha                                1\n",
      "Koetoh Reh                                                    1\n",
      "Name: gname, Length: 3347, dtype: int64\n"
     ]
    }
   ],
   "source": [
    "#list the terrorist organizations\n",
    "print(data_an[17].sum())\n",
    "print(data_an[17])#terrorist organizations"
   ]
  },
  {
   "cell_type": "code",
   "execution_count": 34,
   "metadata": {},
   "outputs": [
    {
     "name": "stdout",
     "output_type": "stream",
     "text": [
      "Unknown                                             77189\n",
      "Taliban                                              6652\n",
      "Islamic State of Iraq and the Levant (ISIL)          4719\n",
      "Shining Path (SL)                                    4001\n",
      "New People's Army (NPA)                              2653\n",
      "Farabundo Marti National Liberation Front (FMLN)     2538\n",
      "Al-Shabaab                                           2342\n",
      "Revolutionary Armed Forces of Colombia (FARC)        2302\n",
      "Kurdistan Workers' Party (PKK)                       2253\n",
      "Basque Fatherland and Freedom (ETA)                  1869\n",
      "Communist Party of India - Maoist (CPI-Maoist)       1822\n",
      "Boko Haram                                           1756\n",
      "Irish Republican Army (IRA)                          1682\n",
      "Maoists                                              1545\n",
      "Liberation Tigers of Tamil Eelam (LTTE)              1529\n",
      "National Liberation Army of Colombia (ELN)           1478\n",
      "Tehrik-i-Taliban Pakistan (TTP)                      1303\n",
      "Palestinians                                          951\n",
      "Al-Qaida in the Arabian Peninsula (AQAP)              915\n",
      "Houthi extremists (Ansar Allah)                       826\n",
      "Name: gname, dtype: int64\n",
      "20563 31151 39141 43895\n",
      "0.24023038190590792 0.3639263058284753 0.4572706987394418 0.5128100283888454\n",
      "46896 49437 51558 53374\n",
      "0.5478696683294976 0.5775552881526221 0.6023341939553957 0.6235498907671998\n"
     ]
    }
   ],
   "source": [
    "#list of 20 organizations with highest number of terrors incidents attributed to them \n",
    "print(data_an[17][:20])\n",
    "print(data_an[17][1:6].sum(), data_an[17][1:11].sum(), data_an[17][1:16].sum(), data_an[17][1:21].sum())\n",
    "print(data_an[17][1:6].sum()/85597, data_an[17][1:11].sum()/85597, data_an[17][1:16].sum()/85597, data_an[17][1:21].sum()/85597)\n",
    "print(data_an[17][1:26].sum(), data_an[17][1:31].sum(), data_an[17][1:36].sum(), data_an[17][1:41].sum())\n",
    "print(data_an[17][1:26].sum()/85597, data_an[17][1:31].sum()/85597, data_an[17][1:36].sum()/85597, data_an[17][1:41].sum()/85597)"
   ]
  },
  {
   "cell_type": "markdown",
   "metadata": {},
   "source": [
    "### Major terrorist groups and their share of terrorist incidents"
   ]
  },
  {
   "cell_type": "code",
   "execution_count": 35,
   "metadata": {},
   "outputs": [
    {
     "name": "stdout",
     "output_type": "stream",
     "text": [
      "Taliban                                             0.077713\n",
      "Islamic State of Iraq and the Levant (ISIL)         0.055130\n",
      "Shining Path (SL)                                   0.046742\n",
      "New People's Army (NPA)                             0.030994\n",
      "Farabundo Marti National Liberation Front (FMLN)    0.029651\n",
      "Al-Shabaab                                          0.027361\n",
      "Revolutionary Armed Forces of Colombia (FARC)       0.026893\n",
      "Kurdistan Workers' Party (PKK)                      0.026321\n",
      "Basque Fatherland and Freedom (ETA)                 0.021835\n",
      "Communist Party of India - Maoist (CPI-Maoist)      0.021286\n",
      "Boko Haram                                          0.020515\n",
      "Irish Republican Army (IRA)                         0.019650\n",
      "Maoists                                             0.018050\n",
      "Liberation Tigers of Tamil Eelam (LTTE)             0.017863\n",
      "National Liberation Army of Colombia (ELN)          0.017267\n",
      "Tehrik-i-Taliban Pakistan (TTP)                     0.015222\n",
      "Palestinians                                        0.011110\n",
      "Al-Qaida in the Arabian Peninsula (AQAP)            0.010690\n",
      "Houthi extremists (Ansar Allah)                     0.009650\n",
      "Manuel Rodriguez Patriotic Front (FPMR)             0.008867\n",
      "Name: gname, dtype: float64\n",
      "43895\n"
     ]
    }
   ],
   "source": [
    "gdat = data_an[17][1:21]\n",
    "print(gdat/85597)\n",
    "print(gdat.sum())"
   ]
  },
  {
   "cell_type": "code",
   "execution_count": 36,
   "metadata": {},
   "outputs": [
    {
     "name": "stdout",
     "output_type": "stream",
     "text": [
      "20 <class 'list'> ['Taliban', 'Islamic State of Iraq and the Levant (ISIL)', 'Shining Path (SL)', \"New People's Army (NPA)\", 'Farabundo Marti National Liberation Front (FMLN)', 'Al-Shabaab', 'Revolutionary Armed Forces of Colombia (FARC)', \"Kurdistan Workers' Party (PKK)\", 'Basque Fatherland and Freedom (ETA)', 'Communist Party of India - Maoist (CPI-Maoist)', 'Boko Haram', 'Irish Republican Army (IRA)', 'Maoists', 'Liberation Tigers of Tamil Eelam (LTTE)', 'National Liberation Army of Colombia (ELN)', 'Tehrik-i-Taliban Pakistan (TTP)', 'Palestinians', 'Al-Qaida in the Arabian Peninsula (AQAP)', 'Houthi extremists (Ansar Allah)', 'Manuel Rodriguez Patriotic Front (FPMR)']\n"
     ]
    }
   ],
   "source": [
    "gdat_name = list(gdat.index)\n",
    "print(len(gdat_name), type(gdat_name), gdat_name)"
   ]
  },
  {
   "cell_type": "markdown",
   "metadata": {},
   "source": [
    "## 3. Two Class classification\n",
    "\n",
    "Classification of data into 2 classess: perpetrator known or unknown"
   ]
  },
  {
   "cell_type": "markdown",
   "metadata": {},
   "source": [
    "### Data preparation\n",
    " \n",
    " Furthur selection of columns/features to use. Use of Feature Scaling. Use of PCA for dimensionality reduction.\n",
    " 2 class classification has been implemented without use of PCA as well as with use of PCA. Number of components required to explain more than 90% of variance are selected. "
   ]
  },
  {
   "cell_type": "markdown",
   "metadata": {},
   "source": [
    "#### Columns dropped and Reasons for the same\n",
    "1. eventid, dbsource, specificity, crit1, crit2, crit3, targsubtype1, target1: may not much useful\n",
    "1. (contd.) natlty1, \n",
    "2. iyear: prediction may not work well with future dates\n",
    "3. imonth, iday, latitude, longitude, country: these have been intentionally dropped to see the working of the model in less     information settings. The inclusion of these will most likely increase the accuracy.\n",
    "4. provstate, city: after including features in 3. above, these may not be very helpful.\n",
    "\n",
    "Model with iyear can be used to make better inference about groups responsible for attacks where perpetrator group is unknown."
   ]
  },
  {
   "cell_type": "code",
   "execution_count": 37,
   "metadata": {},
   "outputs": [
    {
     "name": "stdout",
     "output_type": "stream",
     "text": [
      "23 (162786, 29)\n"
     ]
    }
   ],
   "source": [
    "mlst1 = ['imonth', 'iday', 'extended','region_txt', 'vicinity', 'doubtterr', 'multiple', 'success', 'suicide', \n",
    "         'attacktype1_txt','targtype1_txt', 'gname', 'guncertain1', 'individual', 'weaptype1_txt', 'nkill', 'nwound',\n",
    "         'property', 'ishostkid', 'INT_LOG', 'INT_IDEO', 'INT_MISC', 'INT_ANY']\n",
    "print(len(mlst1), gtd3.shape)"
   ]
  },
  {
   "cell_type": "code",
   "execution_count": 38,
   "metadata": {},
   "outputs": [
    {
     "name": "stdout",
     "output_type": "stream",
     "text": [
      "17\n"
     ]
    }
   ],
   "source": [
    "keep_lst_1 = ['extended','region_txt', 'vicinity', 'doubtterr', 'multiple', 'success', 'suicide', 'attacktype1_txt',\n",
    "              'targtype1_txt', 'individual',  'weaptype1_txt', 'nkill', 'nwound', 'property', 'ishostkid', 'INT_LOG',\n",
    "              'INT_IDEO', 'INT_MISC', 'INT_ANY']\n",
    "#categorical Variables for one hot encoding\n",
    "keep_lst_2 = ['extended','region_txt', 'vicinity', 'doubtterr', 'multiple', 'success', 'suicide', 'attacktype1_txt',\n",
    "              'targtype1_txt', 'individual',  'weaptype1_txt', 'property', 'ishostkid', 'INT_LOG',\n",
    "              'INT_IDEO', 'INT_MISC', 'INT_ANY']\n",
    "\n",
    "print(len(keep_lst_2))\n"
   ]
  },
  {
   "cell_type": "code",
   "execution_count": 39,
   "metadata": {},
   "outputs": [],
   "source": [
    "keep_lst_3 = ['extended','region_txt', 'vicinity', 'doubtterr', 'multiple', 'success', 'suicide', 'attacktype1_txt',\n",
    "              'targtype1_txt', 'individual',  'weaptype1_txt', 'property', 'ishostkid', 'INT_LOG',\n",
    "              'INT_IDEO', 'INT_MISC', 'INT_ANY']"
   ]
  },
  {
   "cell_type": "code",
   "execution_count": 40,
   "metadata": {},
   "outputs": [],
   "source": [
    "#create another column indicating gname is known or unknown\n",
    "keep_lst_2 = keep_lst_1.copy()\n",
    "keep_lst_2.append('gname')"
   ]
  },
  {
   "cell_type": "code",
   "execution_count": 42,
   "metadata": {},
   "outputs": [],
   "source": [
    "ul_data_copy = gtd3[keep_lst_2]\n",
    "ul_data_copy.loc[:,'gnamecat'] = ul_data_copy.loc[:,'gname']"
   ]
  },
  {
   "cell_type": "code",
   "execution_count": 43,
   "metadata": {},
   "outputs": [],
   "source": [
    "ul_data_copy.loc[ul_data_copy.gnamecat != 'Unknown', 'gnamecat'] = 1#Known\n",
    "ul_data_copy.loc[ul_data_copy.gnamecat == 'Unknown', 'gnamecat'] = 0#Unknown"
   ]
  },
  {
   "cell_type": "code",
   "execution_count": 44,
   "metadata": {},
   "outputs": [
    {
     "data": {
      "text/html": [
       "<div>\n",
       "<style scoped>\n",
       "    .dataframe tbody tr th:only-of-type {\n",
       "        vertical-align: middle;\n",
       "    }\n",
       "\n",
       "    .dataframe tbody tr th {\n",
       "        vertical-align: top;\n",
       "    }\n",
       "\n",
       "    .dataframe thead th {\n",
       "        text-align: right;\n",
       "    }\n",
       "</style>\n",
       "<table border=\"1\" class=\"dataframe\">\n",
       "  <thead>\n",
       "    <tr style=\"text-align: right;\">\n",
       "      <th></th>\n",
       "      <th>extended</th>\n",
       "      <th>region_txt</th>\n",
       "      <th>vicinity</th>\n",
       "      <th>doubtterr</th>\n",
       "      <th>multiple</th>\n",
       "      <th>success</th>\n",
       "      <th>suicide</th>\n",
       "      <th>attacktype1_txt</th>\n",
       "      <th>targtype1_txt</th>\n",
       "      <th>individual</th>\n",
       "      <th>...</th>\n",
       "      <th>nkill</th>\n",
       "      <th>nwound</th>\n",
       "      <th>property</th>\n",
       "      <th>ishostkid</th>\n",
       "      <th>INT_LOG</th>\n",
       "      <th>INT_IDEO</th>\n",
       "      <th>INT_MISC</th>\n",
       "      <th>INT_ANY</th>\n",
       "      <th>gname</th>\n",
       "      <th>gnamecat</th>\n",
       "    </tr>\n",
       "  </thead>\n",
       "  <tbody>\n",
       "    <tr>\n",
       "      <th>0</th>\n",
       "      <td>0</td>\n",
       "      <td>Central America &amp; Caribbean</td>\n",
       "      <td>0</td>\n",
       "      <td>0.0</td>\n",
       "      <td>0.0</td>\n",
       "      <td>1</td>\n",
       "      <td>0</td>\n",
       "      <td>Assassination</td>\n",
       "      <td>Private Citizens &amp; Property</td>\n",
       "      <td>0</td>\n",
       "      <td>...</td>\n",
       "      <td>1.0</td>\n",
       "      <td>0.0</td>\n",
       "      <td>0</td>\n",
       "      <td>0.0</td>\n",
       "      <td>0</td>\n",
       "      <td>0</td>\n",
       "      <td>0</td>\n",
       "      <td>0</td>\n",
       "      <td>MANO-D</td>\n",
       "      <td>1</td>\n",
       "    </tr>\n",
       "    <tr>\n",
       "      <th>1</th>\n",
       "      <td>0</td>\n",
       "      <td>North America</td>\n",
       "      <td>0</td>\n",
       "      <td>0.0</td>\n",
       "      <td>0.0</td>\n",
       "      <td>1</td>\n",
       "      <td>0</td>\n",
       "      <td>Hostage Taking (Kidnapping)</td>\n",
       "      <td>Government (Diplomatic)</td>\n",
       "      <td>0</td>\n",
       "      <td>...</td>\n",
       "      <td>0.0</td>\n",
       "      <td>0.0</td>\n",
       "      <td>0</td>\n",
       "      <td>1.0</td>\n",
       "      <td>0</td>\n",
       "      <td>1</td>\n",
       "      <td>1</td>\n",
       "      <td>1</td>\n",
       "      <td>23rd of September Communist League</td>\n",
       "      <td>1</td>\n",
       "    </tr>\n",
       "    <tr>\n",
       "      <th>2</th>\n",
       "      <td>0</td>\n",
       "      <td>Southeast Asia</td>\n",
       "      <td>0</td>\n",
       "      <td>0.0</td>\n",
       "      <td>0.0</td>\n",
       "      <td>1</td>\n",
       "      <td>0</td>\n",
       "      <td>Assassination</td>\n",
       "      <td>Journalists &amp; Media</td>\n",
       "      <td>0</td>\n",
       "      <td>...</td>\n",
       "      <td>1.0</td>\n",
       "      <td>0.0</td>\n",
       "      <td>0</td>\n",
       "      <td>0.0</td>\n",
       "      <td>-9</td>\n",
       "      <td>-9</td>\n",
       "      <td>1</td>\n",
       "      <td>1</td>\n",
       "      <td>Unknown</td>\n",
       "      <td>0</td>\n",
       "    </tr>\n",
       "    <tr>\n",
       "      <th>5</th>\n",
       "      <td>0</td>\n",
       "      <td>North America</td>\n",
       "      <td>0</td>\n",
       "      <td>0.0</td>\n",
       "      <td>0.0</td>\n",
       "      <td>1</td>\n",
       "      <td>0</td>\n",
       "      <td>Armed Assault</td>\n",
       "      <td>Police</td>\n",
       "      <td>0</td>\n",
       "      <td>...</td>\n",
       "      <td>0.0</td>\n",
       "      <td>0.0</td>\n",
       "      <td>1</td>\n",
       "      <td>0.0</td>\n",
       "      <td>-9</td>\n",
       "      <td>-9</td>\n",
       "      <td>0</td>\n",
       "      <td>-9</td>\n",
       "      <td>Black Nationalists</td>\n",
       "      <td>1</td>\n",
       "    </tr>\n",
       "    <tr>\n",
       "      <th>6</th>\n",
       "      <td>0</td>\n",
       "      <td>South America</td>\n",
       "      <td>0</td>\n",
       "      <td>0.0</td>\n",
       "      <td>0.0</td>\n",
       "      <td>0</td>\n",
       "      <td>0</td>\n",
       "      <td>Assassination</td>\n",
       "      <td>Police</td>\n",
       "      <td>0</td>\n",
       "      <td>...</td>\n",
       "      <td>0.0</td>\n",
       "      <td>0.0</td>\n",
       "      <td>0</td>\n",
       "      <td>0.0</td>\n",
       "      <td>0</td>\n",
       "      <td>0</td>\n",
       "      <td>0</td>\n",
       "      <td>0</td>\n",
       "      <td>Tupamaros (Uruguay)</td>\n",
       "      <td>1</td>\n",
       "    </tr>\n",
       "  </tbody>\n",
       "</table>\n",
       "<p>5 rows × 21 columns</p>\n",
       "</div>"
      ],
      "text/plain": [
       "   extended                   region_txt  vicinity  doubtterr  multiple  \\\n",
       "0         0  Central America & Caribbean         0        0.0       0.0   \n",
       "1         0                North America         0        0.0       0.0   \n",
       "2         0               Southeast Asia         0        0.0       0.0   \n",
       "5         0                North America         0        0.0       0.0   \n",
       "6         0                South America         0        0.0       0.0   \n",
       "\n",
       "   success  suicide              attacktype1_txt                targtype1_txt  \\\n",
       "0        1        0                Assassination  Private Citizens & Property   \n",
       "1        1        0  Hostage Taking (Kidnapping)      Government (Diplomatic)   \n",
       "2        1        0                Assassination          Journalists & Media   \n",
       "5        1        0                Armed Assault                       Police   \n",
       "6        0        0                Assassination                       Police   \n",
       "\n",
       "   individual   ...    nkill  nwound  property  ishostkid  INT_LOG  INT_IDEO  \\\n",
       "0           0   ...      1.0     0.0         0        0.0        0         0   \n",
       "1           0   ...      0.0     0.0         0        1.0        0         1   \n",
       "2           0   ...      1.0     0.0         0        0.0       -9        -9   \n",
       "5           0   ...      0.0     0.0         1        0.0       -9        -9   \n",
       "6           0   ...      0.0     0.0         0        0.0        0         0   \n",
       "\n",
       "   INT_MISC  INT_ANY                               gname gnamecat  \n",
       "0         0        0                              MANO-D        1  \n",
       "1         1        1  23rd of September Communist League        1  \n",
       "2         1        1                             Unknown        0  \n",
       "5         0       -9                  Black Nationalists        1  \n",
       "6         0        0                 Tupamaros (Uruguay)        1  \n",
       "\n",
       "[5 rows x 21 columns]"
      ]
     },
     "execution_count": 44,
     "metadata": {},
     "output_type": "execute_result"
    }
   ],
   "source": [
    "ul_data_copy.head()"
   ]
  },
  {
   "cell_type": "code",
   "execution_count": 45,
   "metadata": {},
   "outputs": [
    {
     "data": {
      "text/plain": [
       "(162786, 21)"
      ]
     },
     "execution_count": 45,
     "metadata": {},
     "output_type": "execute_result"
    }
   ],
   "source": [
    "ul_data_copy.shape"
   ]
  },
  {
   "cell_type": "code",
   "execution_count": 46,
   "metadata": {},
   "outputs": [],
   "source": [
    "#import required libs\n",
    "import sklearn\n",
    "from sklearn.preprocessing import MinMaxScaler\n",
    "from sklearn.decomposition import PCA"
   ]
  },
  {
   "cell_type": "code",
   "execution_count": 48,
   "metadata": {},
   "outputs": [
    {
     "data": {
      "text/plain": [
       "(162786, 19)"
      ]
     },
     "execution_count": 48,
     "metadata": {},
     "output_type": "execute_result"
    }
   ],
   "source": [
    "#log transform numerical data - Unsupervised Learning\n",
    "ul_data = gtd3[keep_lst_1]\n",
    "ul_data.shape\n",
    "ul_data.loc[:,'nkill'] = ul_data.loc[:,'nkill'].apply(lambda x: np.log(x + 1))\n",
    "ul_data.loc[:,'nwound'] = ul_data.loc[:,'nwound'].apply(lambda x: np.log(x + 1))\n",
    "ul_data.shape"
   ]
  },
  {
   "cell_type": "code",
   "execution_count": 49,
   "metadata": {},
   "outputs": [],
   "source": [
    "#Data Preprocessing - one hot encoding categorical data\n",
    "ul_data_final = pd.get_dummies(ul_data, prefix=keep_lst_3, columns=keep_lst_3)\n"
   ]
  },
  {
   "cell_type": "code",
   "execution_count": 50,
   "metadata": {
    "scrolled": true
   },
   "outputs": [
    {
     "name": "stdout",
     "output_type": "stream",
     "text": [
      "There are 90 total features after one-hot encoding.\n"
     ]
    }
   ],
   "source": [
    "print(\"There are {} total features after one-hot encoding.\".format(len(list(ul_data_final.columns))))\n",
    "#print(ul_data_final.columns)"
   ]
  },
  {
   "cell_type": "markdown",
   "metadata": {},
   "source": [
    "### Feature Transformation\n",
    "Using PCA to reduce the number of features used for learning process.\n",
    "A plot of number of features vs explained variance is shown.\n",
    "It shows that about 50 features are required to fully represent the given features.\n",
    "About 25 features represents > 90% of the variance in the data."
   ]
  },
  {
   "cell_type": "code",
   "execution_count": 51,
   "metadata": {},
   "outputs": [
    {
     "data": {
      "text/plain": [
       "Text(0.5, 0, 'cumulative explained variance')"
      ]
     },
     "execution_count": 51,
     "metadata": {},
     "output_type": "execute_result"
    },
    {
     "data": {
      "image/png": "[encoded data removed]",
      "text/plain": [
       "<Figure size 432x288 with 1 Axes>"
      ]
     },
     "metadata": {
      "needs_background": "light"
     },
     "output_type": "display_data"
    }
   ],
   "source": [
    "#Choosing number of components\n",
    "pca = PCA().fit(ul_data_final)\n",
    "plt.plot(np.cumsum(pca.explained_variance_ratio_))\n",
    "plt.grid()\n",
    "plt.xlabel('number of components')\n",
    "plt.xlabel('cumulative explained variance')"
   ]
  },
  {
   "cell_type": "code",
   "execution_count": 52,
   "metadata": {},
   "outputs": [
    {
     "name": "stdout",
     "output_type": "stream",
     "text": [
      "[0.16091805 0.14620176 0.10411591 0.05747785 0.05411235 0.04317623\n",
      " 0.04038615 0.0317351  0.02840829 0.02706804 0.02432165 0.02193538\n",
      " 0.01922344 0.01744871 0.01697447 0.01624598 0.01541557 0.01470379\n",
      " 0.01364381 0.01301059 0.01098241 0.0105517  0.00989901 0.00939456\n",
      " 0.00816473] 0.9155155497189894\n"
     ]
    }
   ],
   "source": [
    "pca = PCA(n_components=25)\n",
    "pca.fit(ul_data_final)\n",
    "explained_var = pca.explained_variance_ratio_\n",
    "print(explained_var, explained_var.sum())"
   ]
  },
  {
   "cell_type": "markdown",
   "metadata": {},
   "source": [
    "### 25 components explain 91.55% of the variance in the data"
   ]
  },
  {
   "cell_type": "code",
   "execution_count": 53,
   "metadata": {},
   "outputs": [
    {
     "name": "stdout",
     "output_type": "stream",
     "text": [
      "Training set has 130228 samples.\n",
      "Testing set has 32558 samples.\n"
     ]
    }
   ],
   "source": [
    "#Use all(90) features to classify known and Unknown sources of incidents\n",
    "from sklearn.model_selection import train_test_split\n",
    "from sklearn.metrics import fbeta_score, accuracy_score\n",
    "from sklearn.metrics import confusion_matrix\n",
    "from time import time\n",
    "\n",
    "#Train Test data split\n",
    "X_train, X_test, y_train, y_test = train_test_split(ul_data_final, ul_data_copy.gnamecat, \n",
    "                                                    test_size = 0.2, random_state = 0)\n",
    "\n",
    "print(\"Training set has {} samples.\".format(X_train.shape[0]))\n",
    "print(\"Testing set has {} samples.\".format(X_test.shape[0]))"
   ]
  },
  {
   "cell_type": "code",
   "execution_count": 54,
   "metadata": {},
   "outputs": [],
   "source": [
    "#function for plotting confusion matrix\n",
    "def plot_cm(cm):\n",
    "    lbl_1 = ['Unknown', 'Known']\n",
    "    fig = plt.figure()\n",
    "    ax = fig.add_subplot(111)\n",
    "    cax = ax.matshow(cm)\n",
    "    plt.title('Confusion matrix of classifier')\n",
    "    fig.colorbar(cax)\n",
    "    ax.set_xticklabels([''] + lbl_1)\n",
    "    ax.set_yticklabels([''] + lbl_1)\n",
    "    plt.xlabel('Predicted')\n",
    "    plt.ylabel('True')\n",
    "    plt.show()"
   ]
  },
  {
   "cell_type": "code",
   "execution_count": 58,
   "metadata": {},
   "outputs": [],
   "source": [
    "#function for learning and performance monitering\n",
    "def train_predict(learner, X_train, y_train, X_test, y_test): \n",
    "    results = {}\n",
    "    start = time() # Get start time\n",
    "    learner = learner.fit(X_train, y_train)\n",
    "    end = time() # Get end time\n",
    "    results['train_time'] = end - start\n",
    "    start = time() # Get start time\n",
    "    predictions_test = learner.predict(X_test)\n",
    "    end = time() # Get end time\n",
    "    results['pred_time'] = end - start\n",
    "    results['acc_test'] = accuracy_score(predictions_test, y_test)\n",
    "    results['f_test'] = fbeta_score(y_test, predictions_test, beta=0.5)\n",
    "    cm = confusion_matrix(y_test,predictions_test)\n",
    "    print(cm)\n",
    "    plot_cm(cm)\n",
    "    print(\"{} trained on {} samples.\".format(learner.__class__.__name__, len(y_train)))\n",
    "    return results"
   ]
  },
  {
   "cell_type": "markdown",
   "metadata": {},
   "source": [
    "### Classification Using all features of the data"
   ]
  },
  {
   "cell_type": "code",
   "execution_count": 59,
   "metadata": {},
   "outputs": [
    {
     "name": "stdout",
     "output_type": "stream",
     "text": [
      "[[15332    88]\n",
      " [ 1523 15615]]\n"
     ]
    },
    {
     "data": {
      "image/png": "[encoded data removed]",
      "text/plain": [
       "<Figure size 432x288 with 2 Axes>"
      ]
     },
     "metadata": {
      "needs_background": "light"
     },
     "output_type": "display_data"
    },
    {
     "name": "stdout",
     "output_type": "stream",
     "text": [
      "LogisticRegression trained on 130228 samples.\n"
     ]
    }
   ],
   "source": [
    "from sklearn.linear_model import LogisticRegression\n",
    "\n",
    "clf_A = LogisticRegression(random_state=59, solver='liblinear')\n",
    "results = train_predict(clf_A, X_train, y_train, X_test, y_test)"
   ]
  },
  {
   "cell_type": "code",
   "execution_count": 60,
   "metadata": {},
   "outputs": [
    {
     "name": "stdout",
     "output_type": "stream",
     "text": [
      "{'train_time': 3.5587730407714844, 'pred_time': 0.017056941986083984, 'acc_test': 0.9505190736531728, 'f_test': 0.9765478424015009}\n"
     ]
    }
   ],
   "source": [
    "print(results)"
   ]
  },
  {
   "cell_type": "markdown",
   "metadata": {},
   "source": [
    "### Classification Using 25 features obtained through PCA\n",
    "\n",
    "Same analysis as above is performed using lesser number of features(obtained through PCA)"
   ]
  },
  {
   "cell_type": "code",
   "execution_count": 61,
   "metadata": {},
   "outputs": [
    {
     "name": "stdout",
     "output_type": "stream",
     "text": [
      "[[15399    21]\n",
      " [ 1642 15496]]\n"
     ]
    },
    {
     "data": {
      "image/png": "[encoded data removed]",
      "text/plain": [
       "<Figure size 432x288 with 2 Axes>"
      ]
     },
     "metadata": {
      "needs_background": "light"
     },
     "output_type": "display_data"
    },
    {
     "name": "stdout",
     "output_type": "stream",
     "text": [
      "LogisticRegression trained on 130228 samples.\n",
      "{'train_time': 1.978545904159546, 'pred_time': 0.0020062923431396484, 'acc_test': 0.9489219239511026, 'f_test': 0.9782087215614979}\n"
     ]
    }
   ],
   "source": [
    "#Use 25 features to classify known and Unknown sources of incidents\n",
    "Xtrain = pca.fit_transform(X_train)\n",
    "Xtest = pca.transform(X_test)\n",
    "\n",
    "results = train_predict(clf_A, Xtrain, y_train, Xtest, y_test)\n",
    "print(results)"
   ]
  },
  {
   "cell_type": "markdown",
   "metadata": {},
   "source": [
    "### Summary of 2 class classification\n",
    "\n",
    "2 class classification using lesser number of features performs about the same as that with all features, but traning time is reduced to about 58% of that when using all features.\n",
    "\n",
    "The accuracy is about 94.89% with f1 score = 97.82% when 25 features are used."
   ]
  },
  {
   "cell_type": "markdown",
   "metadata": {},
   "source": [
    "## 4. Multiclass classification\n",
    "\n",
    "Multiclass classification is performed using Neural networks. 20 classess with highest data are selected.\n",
    "Same procedure as used previously is adopted."
   ]
  },
  {
   "cell_type": "code",
   "execution_count": 62,
   "metadata": {},
   "outputs": [
    {
     "data": {
      "text/plain": [
       "(162786, 20)"
      ]
     },
     "execution_count": 62,
     "metadata": {},
     "output_type": "execute_result"
    }
   ],
   "source": [
    "#Supervised Learning data\n",
    "sl_data_copy = gtd3[keep_lst_2]\n",
    "sl_data_copy.shape"
   ]
  },
  {
   "cell_type": "code",
   "execution_count": 63,
   "metadata": {},
   "outputs": [
    {
     "data": {
      "text/plain": [
       "(43895, 20)"
      ]
     },
     "execution_count": 63,
     "metadata": {},
     "output_type": "execute_result"
    }
   ],
   "source": [
    "sl_data_copy = sl_data_copy.loc[sl_data_copy.gname.isin(gdat_name), :]\n",
    "sl_data_copy.shape#shape of the dataset being used"
   ]
  },
  {
   "cell_type": "code",
   "execution_count": 64,
   "metadata": {},
   "outputs": [
    {
     "data": {
      "text/html": [
       "<div>\n",
       "<style scoped>\n",
       "    .dataframe tbody tr th:only-of-type {\n",
       "        vertical-align: middle;\n",
       "    }\n",
       "\n",
       "    .dataframe tbody tr th {\n",
       "        vertical-align: top;\n",
       "    }\n",
       "\n",
       "    .dataframe thead th {\n",
       "        text-align: right;\n",
       "    }\n",
       "</style>\n",
       "<table border=\"1\" class=\"dataframe\">\n",
       "  <thead>\n",
       "    <tr style=\"text-align: right;\">\n",
       "      <th></th>\n",
       "      <th>extended</th>\n",
       "      <th>region_txt</th>\n",
       "      <th>vicinity</th>\n",
       "      <th>doubtterr</th>\n",
       "      <th>multiple</th>\n",
       "      <th>success</th>\n",
       "      <th>suicide</th>\n",
       "      <th>attacktype1_txt</th>\n",
       "      <th>targtype1_txt</th>\n",
       "      <th>individual</th>\n",
       "      <th>weaptype1_txt</th>\n",
       "      <th>nkill</th>\n",
       "      <th>nwound</th>\n",
       "      <th>property</th>\n",
       "      <th>ishostkid</th>\n",
       "      <th>INT_LOG</th>\n",
       "      <th>INT_IDEO</th>\n",
       "      <th>INT_MISC</th>\n",
       "      <th>INT_ANY</th>\n",
       "      <th>gname</th>\n",
       "    </tr>\n",
       "  </thead>\n",
       "  <tbody>\n",
       "    <tr>\n",
       "      <th>39</th>\n",
       "      <td>0</td>\n",
       "      <td>Southeast Asia</td>\n",
       "      <td>0</td>\n",
       "      <td>1.0</td>\n",
       "      <td>0.0</td>\n",
       "      <td>0</td>\n",
       "      <td>0</td>\n",
       "      <td>Unknown</td>\n",
       "      <td>Military</td>\n",
       "      <td>0</td>\n",
       "      <td>Unknown</td>\n",
       "      <td>0.0</td>\n",
       "      <td>1.0</td>\n",
       "      <td>0</td>\n",
       "      <td>0.0</td>\n",
       "      <td>0</td>\n",
       "      <td>1</td>\n",
       "      <td>1</td>\n",
       "      <td>1</td>\n",
       "      <td>New People's Army (NPA)</td>\n",
       "    </tr>\n",
       "    <tr>\n",
       "      <th>169</th>\n",
       "      <td>0</td>\n",
       "      <td>Southeast Asia</td>\n",
       "      <td>1</td>\n",
       "      <td>1.0</td>\n",
       "      <td>0.0</td>\n",
       "      <td>1</td>\n",
       "      <td>0</td>\n",
       "      <td>Unknown</td>\n",
       "      <td>Military</td>\n",
       "      <td>0</td>\n",
       "      <td>Unknown</td>\n",
       "      <td>2.0</td>\n",
       "      <td>0.0</td>\n",
       "      <td>0</td>\n",
       "      <td>0.0</td>\n",
       "      <td>0</td>\n",
       "      <td>1</td>\n",
       "      <td>1</td>\n",
       "      <td>1</td>\n",
       "      <td>New People's Army (NPA)</td>\n",
       "    </tr>\n",
       "    <tr>\n",
       "      <th>226</th>\n",
       "      <td>0</td>\n",
       "      <td>Middle East &amp; North Africa</td>\n",
       "      <td>0</td>\n",
       "      <td>0.0</td>\n",
       "      <td>0.0</td>\n",
       "      <td>1</td>\n",
       "      <td>0</td>\n",
       "      <td>Bombing/Explosion</td>\n",
       "      <td>Airports &amp; Aircraft</td>\n",
       "      <td>0</td>\n",
       "      <td>Explosives</td>\n",
       "      <td>0.0</td>\n",
       "      <td>0.0</td>\n",
       "      <td>1</td>\n",
       "      <td>0.0</td>\n",
       "      <td>1</td>\n",
       "      <td>0</td>\n",
       "      <td>1</td>\n",
       "      <td>1</td>\n",
       "      <td>Palestinians</td>\n",
       "    </tr>\n",
       "    <tr>\n",
       "      <th>253</th>\n",
       "      <td>0</td>\n",
       "      <td>South America</td>\n",
       "      <td>0</td>\n",
       "      <td>0.0</td>\n",
       "      <td>0.0</td>\n",
       "      <td>1</td>\n",
       "      <td>0</td>\n",
       "      <td>Assassination</td>\n",
       "      <td>Government (Diplomatic)</td>\n",
       "      <td>0</td>\n",
       "      <td>Firearms</td>\n",
       "      <td>1.0</td>\n",
       "      <td>1.0</td>\n",
       "      <td>0</td>\n",
       "      <td>0.0</td>\n",
       "      <td>1</td>\n",
       "      <td>0</td>\n",
       "      <td>1</td>\n",
       "      <td>1</td>\n",
       "      <td>Palestinians</td>\n",
       "    </tr>\n",
       "    <tr>\n",
       "      <th>487</th>\n",
       "      <td>1</td>\n",
       "      <td>Middle East &amp; North Africa</td>\n",
       "      <td>0</td>\n",
       "      <td>1.0</td>\n",
       "      <td>0.0</td>\n",
       "      <td>1</td>\n",
       "      <td>0</td>\n",
       "      <td>Hostage Taking (Kidnapping)</td>\n",
       "      <td>Military</td>\n",
       "      <td>0</td>\n",
       "      <td>Unknown</td>\n",
       "      <td>0.0</td>\n",
       "      <td>0.0</td>\n",
       "      <td>0</td>\n",
       "      <td>1.0</td>\n",
       "      <td>1</td>\n",
       "      <td>1</td>\n",
       "      <td>1</td>\n",
       "      <td>1</td>\n",
       "      <td>Palestinians</td>\n",
       "    </tr>\n",
       "  </tbody>\n",
       "</table>\n",
       "</div>"
      ],
      "text/plain": [
       "     extended                  region_txt  vicinity  doubtterr  multiple  \\\n",
       "39          0              Southeast Asia         0        1.0       0.0   \n",
       "169         0              Southeast Asia         1        1.0       0.0   \n",
       "226         0  Middle East & North Africa         0        0.0       0.0   \n",
       "253         0               South America         0        0.0       0.0   \n",
       "487         1  Middle East & North Africa         0        1.0       0.0   \n",
       "\n",
       "     success  suicide              attacktype1_txt            targtype1_txt  \\\n",
       "39         0        0                      Unknown                 Military   \n",
       "169        1        0                      Unknown                 Military   \n",
       "226        1        0            Bombing/Explosion      Airports & Aircraft   \n",
       "253        1        0                Assassination  Government (Diplomatic)   \n",
       "487        1        0  Hostage Taking (Kidnapping)                 Military   \n",
       "\n",
       "     individual weaptype1_txt  nkill  nwound  property  ishostkid  INT_LOG  \\\n",
       "39            0       Unknown    0.0     1.0         0        0.0        0   \n",
       "169           0       Unknown    2.0     0.0         0        0.0        0   \n",
       "226           0    Explosives    0.0     0.0         1        0.0        1   \n",
       "253           0      Firearms    1.0     1.0         0        0.0        1   \n",
       "487           0       Unknown    0.0     0.0         0        1.0        1   \n",
       "\n",
       "     INT_IDEO  INT_MISC  INT_ANY                    gname  \n",
       "39          1         1        1  New People's Army (NPA)  \n",
       "169         1         1        1  New People's Army (NPA)  \n",
       "226         0         1        1             Palestinians  \n",
       "253         0         1        1             Palestinians  \n",
       "487         1         1        1             Palestinians  "
      ]
     },
     "execution_count": 64,
     "metadata": {},
     "output_type": "execute_result"
    }
   ],
   "source": [
    "sl_data_copy.head()#A look at top 5 rows"
   ]
  },
  {
   "cell_type": "code",
   "execution_count": 65,
   "metadata": {},
   "outputs": [],
   "source": [
    "#log transform numerical data\n",
    "sl_data_copy.loc[:,'nkill'] = sl_data_copy.loc[:,'nkill'].apply(lambda x: np.log(x + 1))\n",
    "sl_data_copy.loc[:,'nwound'] = sl_data_copy.loc[:,'nwound'].apply(lambda x: np.log(x + 1))"
   ]
  },
  {
   "cell_type": "code",
   "execution_count": 66,
   "metadata": {},
   "outputs": [],
   "source": [
    "#save gname in a new variable and drop it from the dataset \n",
    "gname_cat = sl_data_copy.gname\n",
    "sl_data_copy = sl_data_copy.drop('gname', axis=1)"
   ]
  },
  {
   "cell_type": "code",
   "execution_count": 67,
   "metadata": {},
   "outputs": [
    {
     "name": "stdout",
     "output_type": "stream",
     "text": [
      "(43895, 19)\n"
     ]
    },
    {
     "data": {
      "text/html": [
       "<div>\n",
       "<style scoped>\n",
       "    .dataframe tbody tr th:only-of-type {\n",
       "        vertical-align: middle;\n",
       "    }\n",
       "\n",
       "    .dataframe tbody tr th {\n",
       "        vertical-align: top;\n",
       "    }\n",
       "\n",
       "    .dataframe thead th {\n",
       "        text-align: right;\n",
       "    }\n",
       "</style>\n",
       "<table border=\"1\" class=\"dataframe\">\n",
       "  <thead>\n",
       "    <tr style=\"text-align: right;\">\n",
       "      <th></th>\n",
       "      <th>extended</th>\n",
       "      <th>region_txt</th>\n",
       "      <th>vicinity</th>\n",
       "      <th>doubtterr</th>\n",
       "      <th>multiple</th>\n",
       "      <th>success</th>\n",
       "      <th>suicide</th>\n",
       "      <th>attacktype1_txt</th>\n",
       "      <th>targtype1_txt</th>\n",
       "      <th>individual</th>\n",
       "      <th>weaptype1_txt</th>\n",
       "      <th>nkill</th>\n",
       "      <th>nwound</th>\n",
       "      <th>property</th>\n",
       "      <th>ishostkid</th>\n",
       "      <th>INT_LOG</th>\n",
       "      <th>INT_IDEO</th>\n",
       "      <th>INT_MISC</th>\n",
       "      <th>INT_ANY</th>\n",
       "    </tr>\n",
       "  </thead>\n",
       "  <tbody>\n",
       "    <tr>\n",
       "      <th>39</th>\n",
       "      <td>0</td>\n",
       "      <td>Southeast Asia</td>\n",
       "      <td>0</td>\n",
       "      <td>1.0</td>\n",
       "      <td>0.0</td>\n",
       "      <td>0</td>\n",
       "      <td>0</td>\n",
       "      <td>Unknown</td>\n",
       "      <td>Military</td>\n",
       "      <td>0</td>\n",
       "      <td>Unknown</td>\n",
       "      <td>0.000000</td>\n",
       "      <td>0.693147</td>\n",
       "      <td>0</td>\n",
       "      <td>0.0</td>\n",
       "      <td>0</td>\n",
       "      <td>1</td>\n",
       "      <td>1</td>\n",
       "      <td>1</td>\n",
       "    </tr>\n",
       "    <tr>\n",
       "      <th>169</th>\n",
       "      <td>0</td>\n",
       "      <td>Southeast Asia</td>\n",
       "      <td>1</td>\n",
       "      <td>1.0</td>\n",
       "      <td>0.0</td>\n",
       "      <td>1</td>\n",
       "      <td>0</td>\n",
       "      <td>Unknown</td>\n",
       "      <td>Military</td>\n",
       "      <td>0</td>\n",
       "      <td>Unknown</td>\n",
       "      <td>1.098612</td>\n",
       "      <td>0.000000</td>\n",
       "      <td>0</td>\n",
       "      <td>0.0</td>\n",
       "      <td>0</td>\n",
       "      <td>1</td>\n",
       "      <td>1</td>\n",
       "      <td>1</td>\n",
       "    </tr>\n",
       "    <tr>\n",
       "      <th>226</th>\n",
       "      <td>0</td>\n",
       "      <td>Middle East &amp; North Africa</td>\n",
       "      <td>0</td>\n",
       "      <td>0.0</td>\n",
       "      <td>0.0</td>\n",
       "      <td>1</td>\n",
       "      <td>0</td>\n",
       "      <td>Bombing/Explosion</td>\n",
       "      <td>Airports &amp; Aircraft</td>\n",
       "      <td>0</td>\n",
       "      <td>Explosives</td>\n",
       "      <td>0.000000</td>\n",
       "      <td>0.000000</td>\n",
       "      <td>1</td>\n",
       "      <td>0.0</td>\n",
       "      <td>1</td>\n",
       "      <td>0</td>\n",
       "      <td>1</td>\n",
       "      <td>1</td>\n",
       "    </tr>\n",
       "    <tr>\n",
       "      <th>253</th>\n",
       "      <td>0</td>\n",
       "      <td>South America</td>\n",
       "      <td>0</td>\n",
       "      <td>0.0</td>\n",
       "      <td>0.0</td>\n",
       "      <td>1</td>\n",
       "      <td>0</td>\n",
       "      <td>Assassination</td>\n",
       "      <td>Government (Diplomatic)</td>\n",
       "      <td>0</td>\n",
       "      <td>Firearms</td>\n",
       "      <td>0.693147</td>\n",
       "      <td>0.693147</td>\n",
       "      <td>0</td>\n",
       "      <td>0.0</td>\n",
       "      <td>1</td>\n",
       "      <td>0</td>\n",
       "      <td>1</td>\n",
       "      <td>1</td>\n",
       "    </tr>\n",
       "    <tr>\n",
       "      <th>487</th>\n",
       "      <td>1</td>\n",
       "      <td>Middle East &amp; North Africa</td>\n",
       "      <td>0</td>\n",
       "      <td>1.0</td>\n",
       "      <td>0.0</td>\n",
       "      <td>1</td>\n",
       "      <td>0</td>\n",
       "      <td>Hostage Taking (Kidnapping)</td>\n",
       "      <td>Military</td>\n",
       "      <td>0</td>\n",
       "      <td>Unknown</td>\n",
       "      <td>0.000000</td>\n",
       "      <td>0.000000</td>\n",
       "      <td>0</td>\n",
       "      <td>1.0</td>\n",
       "      <td>1</td>\n",
       "      <td>1</td>\n",
       "      <td>1</td>\n",
       "      <td>1</td>\n",
       "    </tr>\n",
       "  </tbody>\n",
       "</table>\n",
       "</div>"
      ],
      "text/plain": [
       "     extended                  region_txt  vicinity  doubtterr  multiple  \\\n",
       "39          0              Southeast Asia         0        1.0       0.0   \n",
       "169         0              Southeast Asia         1        1.0       0.0   \n",
       "226         0  Middle East & North Africa         0        0.0       0.0   \n",
       "253         0               South America         0        0.0       0.0   \n",
       "487         1  Middle East & North Africa         0        1.0       0.0   \n",
       "\n",
       "     success  suicide              attacktype1_txt            targtype1_txt  \\\n",
       "39         0        0                      Unknown                 Military   \n",
       "169        1        0                      Unknown                 Military   \n",
       "226        1        0            Bombing/Explosion      Airports & Aircraft   \n",
       "253        1        0                Assassination  Government (Diplomatic)   \n",
       "487        1        0  Hostage Taking (Kidnapping)                 Military   \n",
       "\n",
       "     individual weaptype1_txt     nkill    nwound  property  ishostkid  \\\n",
       "39            0       Unknown  0.000000  0.693147         0        0.0   \n",
       "169           0       Unknown  1.098612  0.000000         0        0.0   \n",
       "226           0    Explosives  0.000000  0.000000         1        0.0   \n",
       "253           0      Firearms  0.693147  0.693147         0        0.0   \n",
       "487           0       Unknown  0.000000  0.000000         0        1.0   \n",
       "\n",
       "     INT_LOG  INT_IDEO  INT_MISC  INT_ANY  \n",
       "39         0         1         1        1  \n",
       "169        0         1         1        1  \n",
       "226        1         0         1        1  \n",
       "253        1         0         1        1  \n",
       "487        1         1         1        1  "
      ]
     },
     "execution_count": 67,
     "metadata": {},
     "output_type": "execute_result"
    }
   ],
   "source": [
    "print(sl_data_copy.shape)\n",
    "sl_data_copy.head()"
   ]
  },
  {
   "cell_type": "code",
   "execution_count": 68,
   "metadata": {},
   "outputs": [],
   "source": [
    "#Data Preprocessing - one hot encoding categorical data\n",
    "sl_data_final = pd.get_dummies(sl_data_copy, prefix=keep_lst_3, columns=keep_lst_3)"
   ]
  },
  {
   "cell_type": "code",
   "execution_count": 69,
   "metadata": {},
   "outputs": [],
   "source": [
    "gn_lst = list(gname_cat.unique())#names of the terrorist organizations"
   ]
  },
  {
   "cell_type": "code",
   "execution_count": 70,
   "metadata": {},
   "outputs": [
    {
     "data": {
      "text/plain": [
       "(43895, 20)"
      ]
     },
     "execution_count": 70,
     "metadata": {},
     "output_type": "execute_result"
    }
   ],
   "source": [
    "#one hot encode output classess\n",
    "gname_cat_op = pd.get_dummies(gname_cat, columns=gn_lst)\n",
    "gname_cat_op.shape"
   ]
  },
  {
   "cell_type": "code",
   "execution_count": 71,
   "metadata": {},
   "outputs": [
    {
     "name": "stdout",
     "output_type": "stream",
     "text": [
      "['Al-Qaida in the Arabian Peninsula (AQAP)', 'Al-Shabaab', 'Basque Fatherland and Freedom (ETA)', 'Boko Haram', 'Communist Party of India - Maoist (CPI-Maoist)', 'Farabundo Marti National Liberation Front (FMLN)', 'Houthi extremists (Ansar Allah)', 'Irish Republican Army (IRA)', 'Islamic State of Iraq and the Levant (ISIL)', \"Kurdistan Workers' Party (PKK)\", 'Liberation Tigers of Tamil Eelam (LTTE)', 'Manuel Rodriguez Patriotic Front (FPMR)', 'Maoists', 'National Liberation Army of Colombia (ELN)', \"New People's Army (NPA)\", 'Palestinians', 'Revolutionary Armed Forces of Colombia (FARC)', 'Shining Path (SL)', 'Taliban', 'Tehrik-i-Taliban Pakistan (TTP)']\n"
     ]
    }
   ],
   "source": [
    "gname_lst_ohe = list(gname_cat_op.columns)#one hot encoded\n",
    "print(gname_lst_ohe)"
   ]
  },
  {
   "cell_type": "code",
   "execution_count": 72,
   "metadata": {},
   "outputs": [
    {
     "data": {
      "text/html": [
       "<div>\n",
       "<style scoped>\n",
       "    .dataframe tbody tr th:only-of-type {\n",
       "        vertical-align: middle;\n",
       "    }\n",
       "\n",
       "    .dataframe tbody tr th {\n",
       "        vertical-align: top;\n",
       "    }\n",
       "\n",
       "    .dataframe thead th {\n",
       "        text-align: right;\n",
       "    }\n",
       "</style>\n",
       "<table border=\"1\" class=\"dataframe\">\n",
       "  <thead>\n",
       "    <tr style=\"text-align: right;\">\n",
       "      <th></th>\n",
       "      <th>Al-Qaida in the Arabian Peninsula (AQAP)</th>\n",
       "      <th>Al-Shabaab</th>\n",
       "      <th>Basque Fatherland and Freedom (ETA)</th>\n",
       "      <th>Boko Haram</th>\n",
       "      <th>Communist Party of India - Maoist (CPI-Maoist)</th>\n",
       "      <th>Farabundo Marti National Liberation Front (FMLN)</th>\n",
       "      <th>Houthi extremists (Ansar Allah)</th>\n",
       "      <th>Irish Republican Army (IRA)</th>\n",
       "      <th>Islamic State of Iraq and the Levant (ISIL)</th>\n",
       "      <th>Kurdistan Workers' Party (PKK)</th>\n",
       "      <th>Liberation Tigers of Tamil Eelam (LTTE)</th>\n",
       "      <th>Manuel Rodriguez Patriotic Front (FPMR)</th>\n",
       "      <th>Maoists</th>\n",
       "      <th>National Liberation Army of Colombia (ELN)</th>\n",
       "      <th>New People's Army (NPA)</th>\n",
       "      <th>Palestinians</th>\n",
       "      <th>Revolutionary Armed Forces of Colombia (FARC)</th>\n",
       "      <th>Shining Path (SL)</th>\n",
       "      <th>Taliban</th>\n",
       "      <th>Tehrik-i-Taliban Pakistan (TTP)</th>\n",
       "    </tr>\n",
       "  </thead>\n",
       "  <tbody>\n",
       "    <tr>\n",
       "      <th>39</th>\n",
       "      <td>0</td>\n",
       "      <td>0</td>\n",
       "      <td>0</td>\n",
       "      <td>0</td>\n",
       "      <td>0</td>\n",
       "      <td>0</td>\n",
       "      <td>0</td>\n",
       "      <td>0</td>\n",
       "      <td>0</td>\n",
       "      <td>0</td>\n",
       "      <td>0</td>\n",
       "      <td>0</td>\n",
       "      <td>0</td>\n",
       "      <td>0</td>\n",
       "      <td>1</td>\n",
       "      <td>0</td>\n",
       "      <td>0</td>\n",
       "      <td>0</td>\n",
       "      <td>0</td>\n",
       "      <td>0</td>\n",
       "    </tr>\n",
       "    <tr>\n",
       "      <th>169</th>\n",
       "      <td>0</td>\n",
       "      <td>0</td>\n",
       "      <td>0</td>\n",
       "      <td>0</td>\n",
       "      <td>0</td>\n",
       "      <td>0</td>\n",
       "      <td>0</td>\n",
       "      <td>0</td>\n",
       "      <td>0</td>\n",
       "      <td>0</td>\n",
       "      <td>0</td>\n",
       "      <td>0</td>\n",
       "      <td>0</td>\n",
       "      <td>0</td>\n",
       "      <td>1</td>\n",
       "      <td>0</td>\n",
       "      <td>0</td>\n",
       "      <td>0</td>\n",
       "      <td>0</td>\n",
       "      <td>0</td>\n",
       "    </tr>\n",
       "    <tr>\n",
       "      <th>226</th>\n",
       "      <td>0</td>\n",
       "      <td>0</td>\n",
       "      <td>0</td>\n",
       "      <td>0</td>\n",
       "      <td>0</td>\n",
       "      <td>0</td>\n",
       "      <td>0</td>\n",
       "      <td>0</td>\n",
       "      <td>0</td>\n",
       "      <td>0</td>\n",
       "      <td>0</td>\n",
       "      <td>0</td>\n",
       "      <td>0</td>\n",
       "      <td>0</td>\n",
       "      <td>0</td>\n",
       "      <td>1</td>\n",
       "      <td>0</td>\n",
       "      <td>0</td>\n",
       "      <td>0</td>\n",
       "      <td>0</td>\n",
       "    </tr>\n",
       "    <tr>\n",
       "      <th>253</th>\n",
       "      <td>0</td>\n",
       "      <td>0</td>\n",
       "      <td>0</td>\n",
       "      <td>0</td>\n",
       "      <td>0</td>\n",
       "      <td>0</td>\n",
       "      <td>0</td>\n",
       "      <td>0</td>\n",
       "      <td>0</td>\n",
       "      <td>0</td>\n",
       "      <td>0</td>\n",
       "      <td>0</td>\n",
       "      <td>0</td>\n",
       "      <td>0</td>\n",
       "      <td>0</td>\n",
       "      <td>1</td>\n",
       "      <td>0</td>\n",
       "      <td>0</td>\n",
       "      <td>0</td>\n",
       "      <td>0</td>\n",
       "    </tr>\n",
       "    <tr>\n",
       "      <th>487</th>\n",
       "      <td>0</td>\n",
       "      <td>0</td>\n",
       "      <td>0</td>\n",
       "      <td>0</td>\n",
       "      <td>0</td>\n",
       "      <td>0</td>\n",
       "      <td>0</td>\n",
       "      <td>0</td>\n",
       "      <td>0</td>\n",
       "      <td>0</td>\n",
       "      <td>0</td>\n",
       "      <td>0</td>\n",
       "      <td>0</td>\n",
       "      <td>0</td>\n",
       "      <td>0</td>\n",
       "      <td>1</td>\n",
       "      <td>0</td>\n",
       "      <td>0</td>\n",
       "      <td>0</td>\n",
       "      <td>0</td>\n",
       "    </tr>\n",
       "  </tbody>\n",
       "</table>\n",
       "</div>"
      ],
      "text/plain": [
       "     Al-Qaida in the Arabian Peninsula (AQAP)  Al-Shabaab  \\\n",
       "39                                          0           0   \n",
       "169                                         0           0   \n",
       "226                                         0           0   \n",
       "253                                         0           0   \n",
       "487                                         0           0   \n",
       "\n",
       "     Basque Fatherland and Freedom (ETA)  Boko Haram  \\\n",
       "39                                     0           0   \n",
       "169                                    0           0   \n",
       "226                                    0           0   \n",
       "253                                    0           0   \n",
       "487                                    0           0   \n",
       "\n",
       "     Communist Party of India - Maoist (CPI-Maoist)  \\\n",
       "39                                                0   \n",
       "169                                               0   \n",
       "226                                               0   \n",
       "253                                               0   \n",
       "487                                               0   \n",
       "\n",
       "     Farabundo Marti National Liberation Front (FMLN)  \\\n",
       "39                                                  0   \n",
       "169                                                 0   \n",
       "226                                                 0   \n",
       "253                                                 0   \n",
       "487                                                 0   \n",
       "\n",
       "     Houthi extremists (Ansar Allah)  Irish Republican Army (IRA)  \\\n",
       "39                                 0                            0   \n",
       "169                                0                            0   \n",
       "226                                0                            0   \n",
       "253                                0                            0   \n",
       "487                                0                            0   \n",
       "\n",
       "     Islamic State of Iraq and the Levant (ISIL)  \\\n",
       "39                                             0   \n",
       "169                                            0   \n",
       "226                                            0   \n",
       "253                                            0   \n",
       "487                                            0   \n",
       "\n",
       "     Kurdistan Workers' Party (PKK)  Liberation Tigers of Tamil Eelam (LTTE)  \\\n",
       "39                                0                                        0   \n",
       "169                               0                                        0   \n",
       "226                               0                                        0   \n",
       "253                               0                                        0   \n",
       "487                               0                                        0   \n",
       "\n",
       "     Manuel Rodriguez Patriotic Front (FPMR)  Maoists  \\\n",
       "39                                         0        0   \n",
       "169                                        0        0   \n",
       "226                                        0        0   \n",
       "253                                        0        0   \n",
       "487                                        0        0   \n",
       "\n",
       "     National Liberation Army of Colombia (ELN)  New People's Army (NPA)  \\\n",
       "39                                            0                        1   \n",
       "169                                           0                        1   \n",
       "226                                           0                        0   \n",
       "253                                           0                        0   \n",
       "487                                           0                        0   \n",
       "\n",
       "     Palestinians  Revolutionary Armed Forces of Colombia (FARC)  \\\n",
       "39              0                                              0   \n",
       "169             0                                              0   \n",
       "226             1                                              0   \n",
       "253             1                                              0   \n",
       "487             1                                              0   \n",
       "\n",
       "     Shining Path (SL)  Taliban  Tehrik-i-Taliban Pakistan (TTP)  \n",
       "39                   0        0                                0  \n",
       "169                  0        0                                0  \n",
       "226                  0        0                                0  \n",
       "253                  0        0                                0  \n",
       "487                  0        0                                0  "
      ]
     },
     "execution_count": 72,
     "metadata": {},
     "output_type": "execute_result"
    }
   ],
   "source": [
    "gname_cat_op.head()"
   ]
  },
  {
   "cell_type": "code",
   "execution_count": 73,
   "metadata": {},
   "outputs": [
    {
     "name": "stdout",
     "output_type": "stream",
     "text": [
      "There are 86 total features after one-hot encoding.\n"
     ]
    }
   ],
   "source": [
    "print(\"There are {} total features after one-hot encoding.\".format(len(list(sl_data_final.columns))))\n",
    "#print(sl_data_final.columns)"
   ]
  },
  {
   "cell_type": "code",
   "execution_count": 74,
   "metadata": {},
   "outputs": [
    {
     "name": "stdout",
     "output_type": "stream",
     "text": [
      "Training set has 35116 samples.\n",
      "Testing set has 8779 samples.\n"
     ]
    }
   ],
   "source": [
    "#Train Test data split\n",
    "X_train, X_test, y_train, y_test = train_test_split(sl_data_final, gname_cat_op, \n",
    "                                                    test_size = 0.2, random_state = 0)\n",
    "\n",
    "print(\"Training set has {} samples.\".format(X_train.shape[0]))\n",
    "print(\"Testing set has {} samples.\".format(X_test.shape[0]))"
   ]
  },
  {
   "cell_type": "code",
   "execution_count": 75,
   "metadata": {},
   "outputs": [
    {
     "name": "stdout",
     "output_type": "stream",
     "text": [
      "Training set has 28092 samples.\n",
      "Validation set has 7024 samples.\n"
     ]
    }
   ],
   "source": [
    "#create train validation split\n",
    "X_train_, X_val, y_train_, y_val = train_test_split(X_train, y_train, test_size = 0.2, random_state = 0)\n",
    "print(\"Training set has {} samples.\".format(X_train_.shape[0]))\n",
    "print(\"Validation set has {} samples.\".format(X_val.shape[0]))"
   ]
  },
  {
   "cell_type": "code",
   "execution_count": 76,
   "metadata": {},
   "outputs": [
    {
     "name": "stderr",
     "output_type": "stream",
     "text": [
      "Using TensorFlow backend.\n"
     ]
    },
    {
     "name": "stdout",
     "output_type": "stream",
     "text": [
      "_________________________________________________________________\n",
      "Layer (type)                 Output Shape              Param #   \n",
      "=================================================================\n",
      "dense_1 (Dense)              (None, 64)                5568      \n",
      "_________________________________________________________________\n",
      "dropout_1 (Dropout)          (None, 64)                0         \n",
      "_________________________________________________________________\n",
      "dense_2 (Dense)              (None, 64)                4160      \n",
      "_________________________________________________________________\n",
      "dropout_2 (Dropout)          (None, 64)                0         \n",
      "_________________________________________________________________\n",
      "dense_3 (Dense)              (None, 20)                1300      \n",
      "=================================================================\n",
      "Total params: 11,028\n",
      "Trainable params: 11,028\n",
      "Non-trainable params: 0\n",
      "_________________________________________________________________\n"
     ]
    }
   ],
   "source": [
    "#Neural Network for 20 class classification using all features\n",
    "#model creation\n",
    "from keras.models import Sequential\n",
    "from keras.layers import Dropout, Dense\n",
    "\n",
    "model = Sequential()\n",
    "\n",
    "model.add(Dense(64, activation='relu', input_shape=(86,)))\n",
    "model.add(Dropout(0.2))\n",
    "\n",
    "model.add(Dense(64, activation='relu'))\n",
    "model.add(Dropout(0.2))\n",
    "          \n",
    "model.add(Dense(20, activation='softmax'))#num of classess\n",
    "          \n",
    "model.summary()"
   ]
  },
  {
   "cell_type": "code",
   "execution_count": 77,
   "metadata": {},
   "outputs": [],
   "source": [
    "#Compile the model\n",
    "model.compile(optimizer='rmsprop', loss='categorical_crossentropy', metrics=['accuracy'])"
   ]
  },
  {
   "cell_type": "code",
   "execution_count": 78,
   "metadata": {
    "scrolled": true
   },
   "outputs": [
    {
     "name": "stdout",
     "output_type": "stream",
     "text": [
      "Train on 28092 samples, validate on 7024 samples\n",
      "Epoch 1/30\n",
      " - 9s - loss: 1.9577 - acc: 0.4527 - val_loss: 1.0590 - val_acc: 0.6862\n",
      "\n",
      "Epoch 00001: val_loss improved from inf to 1.05896, saving model to saved_models/weights.best.from_scratch.hdf5\n",
      "Epoch 2/30\n",
      " - 0s - loss: 0.9868 - acc: 0.6721 - val_loss: 0.7045 - val_acc: 0.7191\n",
      "\n",
      "Epoch 00002: val_loss improved from 1.05896 to 0.70450, saving model to saved_models/weights.best.from_scratch.hdf5\n",
      "Epoch 3/30\n",
      " - 1s - loss: 0.7646 - acc: 0.7046 - val_loss: 0.6503 - val_acc: 0.7412\n",
      "\n",
      "Epoch 00003: val_loss improved from 0.70450 to 0.65028, saving model to saved_models/weights.best.from_scratch.hdf5\n",
      "Epoch 4/30\n",
      " - 1s - loss: 0.7035 - acc: 0.7222 - val_loss: 0.6332 - val_acc: 0.7435\n",
      "\n",
      "Epoch 00004: val_loss improved from 0.65028 to 0.63324, saving model to saved_models/weights.best.from_scratch.hdf5\n",
      "Epoch 5/30\n",
      " - 0s - loss: 0.6781 - acc: 0.7301 - val_loss: 0.6147 - val_acc: 0.7528\n",
      "\n",
      "Epoch 00005: val_loss improved from 0.63324 to 0.61474, saving model to saved_models/weights.best.from_scratch.hdf5\n",
      "Epoch 6/30\n",
      " - 0s - loss: 0.6550 - acc: 0.7371 - val_loss: 0.6063 - val_acc: 0.7551\n",
      "\n",
      "Epoch 00006: val_loss improved from 0.61474 to 0.60635, saving model to saved_models/weights.best.from_scratch.hdf5\n",
      "Epoch 7/30\n",
      " - 0s - loss: 0.6460 - acc: 0.7408 - val_loss: 0.5978 - val_acc: 0.7620\n",
      "\n",
      "Epoch 00007: val_loss improved from 0.60635 to 0.59783, saving model to saved_models/weights.best.from_scratch.hdf5\n",
      "Epoch 8/30\n",
      " - 0s - loss: 0.6351 - acc: 0.7462 - val_loss: 0.5963 - val_acc: 0.7631\n",
      "\n",
      "Epoch 00008: val_loss improved from 0.59783 to 0.59634, saving model to saved_models/weights.best.from_scratch.hdf5\n",
      "Epoch 9/30\n",
      " - 0s - loss: 0.6268 - acc: 0.7484 - val_loss: 0.5893 - val_acc: 0.7698\n",
      "\n",
      "Epoch 00009: val_loss improved from 0.59634 to 0.58930, saving model to saved_models/weights.best.from_scratch.hdf5\n",
      "Epoch 10/30\n",
      " - 0s - loss: 0.6197 - acc: 0.7514 - val_loss: 0.5870 - val_acc: 0.7652\n",
      "\n",
      "Epoch 00010: val_loss improved from 0.58930 to 0.58705, saving model to saved_models/weights.best.from_scratch.hdf5\n",
      "Epoch 11/30\n",
      " - 0s - loss: 0.6159 - acc: 0.7539 - val_loss: 0.5845 - val_acc: 0.7658\n",
      "\n",
      "Epoch 00011: val_loss improved from 0.58705 to 0.58446, saving model to saved_models/weights.best.from_scratch.hdf5\n",
      "Epoch 12/30\n",
      " - 0s - loss: 0.6092 - acc: 0.7549 - val_loss: 0.5784 - val_acc: 0.7705\n",
      "\n",
      "Epoch 00012: val_loss improved from 0.58446 to 0.57840, saving model to saved_models/weights.best.from_scratch.hdf5\n",
      "Epoch 13/30\n",
      " - 0s - loss: 0.6012 - acc: 0.7573 - val_loss: 0.5781 - val_acc: 0.7682\n",
      "\n",
      "Epoch 00013: val_loss improved from 0.57840 to 0.57807, saving model to saved_models/weights.best.from_scratch.hdf5\n",
      "Epoch 14/30\n",
      " - 0s - loss: 0.6015 - acc: 0.7569 - val_loss: 0.5748 - val_acc: 0.7721\n",
      "\n",
      "Epoch 00014: val_loss improved from 0.57807 to 0.57477, saving model to saved_models/weights.best.from_scratch.hdf5\n",
      "Epoch 15/30\n",
      " - 0s - loss: 0.5951 - acc: 0.7588 - val_loss: 0.5720 - val_acc: 0.7721\n",
      "\n",
      "Epoch 00015: val_loss improved from 0.57477 to 0.57205, saving model to saved_models/weights.best.from_scratch.hdf5\n",
      "Epoch 16/30\n",
      " - 0s - loss: 0.5932 - acc: 0.7593 - val_loss: 0.5707 - val_acc: 0.7708\n",
      "\n",
      "Epoch 00016: val_loss improved from 0.57205 to 0.57072, saving model to saved_models/weights.best.from_scratch.hdf5\n",
      "Epoch 17/30\n",
      " - 0s - loss: 0.5900 - acc: 0.7635 - val_loss: 0.5696 - val_acc: 0.7699\n",
      "\n",
      "Epoch 00017: val_loss improved from 0.57072 to 0.56956, saving model to saved_models/weights.best.from_scratch.hdf5\n",
      "Epoch 18/30\n",
      " - 0s - loss: 0.5898 - acc: 0.7614 - val_loss: 0.5713 - val_acc: 0.7695\n",
      "\n",
      "Epoch 00018: val_loss did not improve from 0.56956\n",
      "Epoch 19/30\n",
      " - 0s - loss: 0.5854 - acc: 0.7655 - val_loss: 0.5641 - val_acc: 0.7698\n",
      "\n",
      "Epoch 00019: val_loss improved from 0.56956 to 0.56407, saving model to saved_models/weights.best.from_scratch.hdf5\n",
      "Epoch 20/30\n",
      " - 0s - loss: 0.5827 - acc: 0.7635 - val_loss: 0.5649 - val_acc: 0.7731\n",
      "\n",
      "Epoch 00020: val_loss did not improve from 0.56407\n",
      "Epoch 21/30\n",
      " - 0s - loss: 0.5804 - acc: 0.7663 - val_loss: 0.5649 - val_acc: 0.7769\n",
      "\n",
      "Epoch 00021: val_loss did not improve from 0.56407\n",
      "Epoch 22/30\n",
      " - 0s - loss: 0.5750 - acc: 0.7677 - val_loss: 0.5630 - val_acc: 0.7715\n",
      "\n",
      "Epoch 00022: val_loss improved from 0.56407 to 0.56301, saving model to saved_models/weights.best.from_scratch.hdf5\n",
      "Epoch 23/30\n",
      " - 0s - loss: 0.5758 - acc: 0.7674 - val_loss: 0.5605 - val_acc: 0.7769\n",
      "\n",
      "Epoch 00023: val_loss improved from 0.56301 to 0.56047, saving model to saved_models/weights.best.from_scratch.hdf5\n",
      "Epoch 24/30\n",
      " - 0s - loss: 0.5728 - acc: 0.7704 - val_loss: 0.5597 - val_acc: 0.7763\n",
      "\n",
      "Epoch 00024: val_loss improved from 0.56047 to 0.55973, saving model to saved_models/weights.best.from_scratch.hdf5\n",
      "Epoch 25/30\n",
      " - 0s - loss: 0.5709 - acc: 0.7686 - val_loss: 0.5632 - val_acc: 0.7732\n",
      "\n",
      "Epoch 00025: val_loss did not improve from 0.55973\n",
      "Epoch 26/30\n",
      " - 1s - loss: 0.5687 - acc: 0.7686 - val_loss: 0.5594 - val_acc: 0.7748\n",
      "\n",
      "Epoch 00026: val_loss improved from 0.55973 to 0.55936, saving model to saved_models/weights.best.from_scratch.hdf5\n",
      "Epoch 27/30\n",
      " - 0s - loss: 0.5696 - acc: 0.7684 - val_loss: 0.5572 - val_acc: 0.7772\n",
      "\n",
      "Epoch 00027: val_loss improved from 0.55936 to 0.55721, saving model to saved_models/weights.best.from_scratch.hdf5\n",
      "Epoch 28/30\n",
      " - 0s - loss: 0.5693 - acc: 0.7693 - val_loss: 0.5566 - val_acc: 0.7765\n",
      "\n",
      "Epoch 00028: val_loss improved from 0.55721 to 0.55659, saving model to saved_models/weights.best.from_scratch.hdf5\n",
      "Epoch 29/30\n",
      " - 1s - loss: 0.5689 - acc: 0.7707 - val_loss: 0.5574 - val_acc: 0.7771\n",
      "\n",
      "Epoch 00029: val_loss did not improve from 0.55659\n",
      "Epoch 30/30\n",
      " - 1s - loss: 0.5627 - acc: 0.7740 - val_loss: 0.5557 - val_acc: 0.7771\n",
      "\n",
      "Epoch 00030: val_loss improved from 0.55659 to 0.55573, saving model to saved_models/weights.best.from_scratch.hdf5\n"
     ]
    }
   ],
   "source": [
    "from keras.callbacks import ModelCheckpoint  \n",
    "\n",
    "epochs = 30\n",
    "#save best weights\n",
    "checkpointer = ModelCheckpoint(filepath='saved_models/weights.best.from_scratch.hdf5', \n",
    "                               verbose=1, save_best_only=True)\n",
    "start = time()\n",
    "model.fit(X_train_, y_train_, validation_data=(X_val, y_val),\n",
    "          epochs=epochs, batch_size=256, callbacks=[checkpointer], verbose=2)\n",
    "stop = time()"
   ]
  },
  {
   "cell_type": "code",
   "execution_count": 81,
   "metadata": {},
   "outputs": [
    {
     "name": "stdout",
     "output_type": "stream",
     "text": [
      "time taken = 24.1804 second\n"
     ]
    }
   ],
   "source": [
    "print('time taken = {:.4f} second'.format(stop-start))\n",
    "#Load the Model with the Best Validation Loss\n",
    "model.load_weights('saved_models/weights.best.from_scratch.hdf5')"
   ]
  },
  {
   "cell_type": "code",
   "execution_count": 82,
   "metadata": {},
   "outputs": [
    {
     "name": "stdout",
     "output_type": "stream",
     "text": [
      "                                                  precision    recall  f1-score   support\n",
      "\n",
      "        Al-Qaida in the Arabian Peninsula (AQAP)       0.71      0.43      0.54       184\n",
      "                                      Al-Shabaab       0.85      0.84      0.84       461\n",
      "             Basque Fatherland and Freedom (ETA)       0.98      0.97      0.98       376\n",
      "                                      Boko Haram       0.81      0.81      0.81       372\n",
      "  Communist Party of India - Maoist (CPI-Maoist)       0.61      0.52      0.56       364\n",
      "Farabundo Marti National Liberation Front (FMLN)       1.00      1.00      1.00       534\n",
      "                 Houthi extremists (Ansar Allah)       0.75      0.66      0.70       166\n",
      "                     Irish Republican Army (IRA)       0.93      0.96      0.95       327\n",
      "     Islamic State of Iraq and the Levant (ISIL)       0.87      0.96      0.92       916\n",
      "                  Kurdistan Workers' Party (PKK)       0.85      0.88      0.87       457\n",
      "         Liberation Tigers of Tamil Eelam (LTTE)       0.74      0.33      0.46       312\n",
      "         Manuel Rodriguez Patriotic Front (FPMR)       0.00      0.00      0.00       157\n",
      "                                         Maoists       1.00      1.00      1.00       298\n",
      "      National Liberation Army of Colombia (ELN)       0.43      0.22      0.29       270\n",
      "                         New People's Army (NPA)       1.00      1.00      1.00       541\n",
      "                                    Palestinians       0.93      0.80      0.86       193\n",
      "   Revolutionary Armed Forces of Colombia (FARC)       0.54      0.45      0.49       480\n",
      "                               Shining Path (SL)       0.59      0.86      0.70       797\n",
      "                                         Taliban       0.70      0.92      0.79      1324\n",
      "                 Tehrik-i-Taliban Pakistan (TTP)       0.65      0.14      0.23       250\n",
      "\n",
      "                                       micro avg       0.78      0.78      0.78      8779\n",
      "                                       macro avg       0.75      0.69      0.70      8779\n",
      "                                    weighted avg       0.77      0.78      0.76      8779\n",
      "\n"
     ]
    }
   ],
   "source": [
    "#get accuracy for test data\n",
    "from sklearn.metrics import classification_report\n",
    "\n",
    "Y_test = np.argmax(np.array(y_test), axis=1)\n",
    "gname_predictions = model.predict_classes(X_test)\n",
    "print(classification_report(Y_test, gname_predictions, target_names=gname_lst_ohe))\n"
   ]
  },
  {
   "cell_type": "markdown",
   "metadata": {},
   "source": [
    "### Feature Transformation for Neural netwok\n",
    "Using PCA to reduce the number of features used for learning process.\n",
    "A plot of number of faetures vs explained variance is shown.\n",
    "It shows that about 50 features are required to fully represent the given features.\n",
    "About 25 features represents > 90% of the variance in the data."
   ]
  },
  {
   "cell_type": "code",
   "execution_count": 83,
   "metadata": {},
   "outputs": [
    {
     "data": {
      "text/plain": [
       "Text(0.5, 0, 'cumulative explained variance')"
      ]
     },
     "execution_count": 83,
     "metadata": {},
     "output_type": "execute_result"
    },
    {
     "data": {
      "image/png": "[encoded data removed]",
      "text/plain": [
       "<Figure size 432x288 with 1 Axes>"
      ]
     },
     "metadata": {
      "needs_background": "light"
     },
     "output_type": "display_data"
    }
   ],
   "source": [
    "#Choosing number of components\n",
    "pca = PCA().fit(ul_data_final)\n",
    "plt.plot(np.cumsum(pca.explained_variance_ratio_))\n",
    "plt.grid()\n",
    "plt.xlabel('number of components')\n",
    "plt.xlabel('cumulative explained variance')"
   ]
  },
  {
   "cell_type": "code",
   "execution_count": 84,
   "metadata": {},
   "outputs": [
    {
     "name": "stdout",
     "output_type": "stream",
     "text": [
      "[0.16091805 0.14620176 0.10411591 0.05747785 0.05411235 0.04317623\n",
      " 0.04038615 0.0317351  0.02840829 0.02706804 0.02432165 0.02193538\n",
      " 0.01922345 0.01744871 0.01697447 0.01624599 0.01541558 0.01470379\n",
      " 0.01364382 0.01301057 0.01098251 0.01055171 0.00989921 0.00939529\n",
      " 0.00816586] 0.9155177139576216\n"
     ]
    }
   ],
   "source": [
    "pca = PCA(n_components=25)\n",
    "pca.fit(ul_data_final)\n",
    "explained_var = pca.explained_variance_ratio_\n",
    "print(explained_var, explained_var.sum())"
   ]
  },
  {
   "cell_type": "markdown",
   "metadata": {},
   "source": [
    "### Using 25 features obtained through PCA for 20 class classification"
   ]
  },
  {
   "cell_type": "code",
   "execution_count": 85,
   "metadata": {},
   "outputs": [],
   "source": [
    "#Use 25 features to classify 20 groups\n",
    "\n",
    "Xtrain_rd = pca.fit_transform(X_train_)\n",
    "Xval_rd = pca.transform(X_val)\n",
    "Xtest_rd = pca.transform(X_test)"
   ]
  },
  {
   "cell_type": "code",
   "execution_count": 86,
   "metadata": {},
   "outputs": [
    {
     "name": "stdout",
     "output_type": "stream",
     "text": [
      "_________________________________________________________________\n",
      "Layer (type)                 Output Shape              Param #   \n",
      "=================================================================\n",
      "dense_4 (Dense)              (None, 64)                1664      \n",
      "_________________________________________________________________\n",
      "dropout_3 (Dropout)          (None, 64)                0         \n",
      "_________________________________________________________________\n",
      "dense_5 (Dense)              (None, 64)                4160      \n",
      "_________________________________________________________________\n",
      "dropout_4 (Dropout)          (None, 64)                0         \n",
      "_________________________________________________________________\n",
      "dense_6 (Dense)              (None, 20)                1300      \n",
      "=================================================================\n",
      "Total params: 7,124\n",
      "Trainable params: 7,124\n",
      "Non-trainable params: 0\n",
      "_________________________________________________________________\n"
     ]
    }
   ],
   "source": [
    "model2 = Sequential()\n",
    "\n",
    "model2.add(Dense(64, activation='relu', input_shape=(25,)))\n",
    "model2.add(Dropout(0.2))\n",
    "\n",
    "model2.add(Dense(64, activation='relu'))\n",
    "model2.add(Dropout(0.2))\n",
    "          \n",
    "model2.add(Dense(20, activation='softmax'))#num of classess\n",
    "          \n",
    "model2.summary()"
   ]
  },
  {
   "cell_type": "code",
   "execution_count": 87,
   "metadata": {},
   "outputs": [],
   "source": [
    "#Compile the model\n",
    "model2.compile(optimizer='rmsprop', loss='categorical_crossentropy', metrics=['accuracy'])"
   ]
  },
  {
   "cell_type": "code",
   "execution_count": 88,
   "metadata": {
    "scrolled": true
   },
   "outputs": [
    {
     "name": "stdout",
     "output_type": "stream",
     "text": [
      "Train on 28092 samples, validate on 7024 samples\n",
      "Epoch 1/30\n",
      " - 1s - loss: 2.0635 - acc: 0.4467 - val_loss: 1.1685 - val_acc: 0.6774\n",
      "\n",
      "Epoch 00001: val_loss improved from inf to 1.16850, saving model to saved_models/weights.best.from_scratch_pca.hdf5\n",
      "Epoch 2/30\n",
      " - 0s - loss: 0.9985 - acc: 0.6739 - val_loss: 0.7249 - val_acc: 0.7252\n",
      "\n",
      "Epoch 00002: val_loss improved from 1.16850 to 0.72490, saving model to saved_models/weights.best.from_scratch_pca.hdf5\n",
      "Epoch 3/30\n",
      " - 0s - loss: 0.7843 - acc: 0.7021 - val_loss: 0.6624 - val_acc: 0.7420\n",
      "\n",
      "Epoch 00003: val_loss improved from 0.72490 to 0.66243, saving model to saved_models/weights.best.from_scratch_pca.hdf5\n",
      "Epoch 4/30\n",
      " - 0s - loss: 0.7244 - acc: 0.7136 - val_loss: 0.6441 - val_acc: 0.7484\n",
      "\n",
      "Epoch 00004: val_loss improved from 0.66243 to 0.64407, saving model to saved_models/weights.best.from_scratch_pca.hdf5\n",
      "Epoch 5/30\n",
      " - 0s - loss: 0.6974 - acc: 0.7228 - val_loss: 0.6335 - val_acc: 0.7466\n",
      "\n",
      "Epoch 00005: val_loss improved from 0.64407 to 0.63353, saving model to saved_models/weights.best.from_scratch_pca.hdf5\n",
      "Epoch 6/30\n",
      " - 0s - loss: 0.6784 - acc: 0.7296 - val_loss: 0.6234 - val_acc: 0.7491\n",
      "\n",
      "Epoch 00006: val_loss improved from 0.63353 to 0.62337, saving model to saved_models/weights.best.from_scratch_pca.hdf5\n",
      "Epoch 7/30\n",
      " - 0s - loss: 0.6631 - acc: 0.7321 - val_loss: 0.6163 - val_acc: 0.7528\n",
      "\n",
      "Epoch 00007: val_loss improved from 0.62337 to 0.61625, saving model to saved_models/weights.best.from_scratch_pca.hdf5\n",
      "Epoch 8/30\n",
      " - 0s - loss: 0.6571 - acc: 0.7349 - val_loss: 0.6115 - val_acc: 0.7563\n",
      "\n",
      "Epoch 00008: val_loss improved from 0.61625 to 0.61152, saving model to saved_models/weights.best.from_scratch_pca.hdf5\n",
      "Epoch 9/30\n",
      " - 0s - loss: 0.6482 - acc: 0.7397 - val_loss: 0.6120 - val_acc: 0.7537\n",
      "\n",
      "Epoch 00009: val_loss did not improve from 0.61152\n",
      "Epoch 10/30\n",
      " - 0s - loss: 0.6386 - acc: 0.7419 - val_loss: 0.6031 - val_acc: 0.7563\n",
      "\n",
      "Epoch 00010: val_loss improved from 0.61152 to 0.60313, saving model to saved_models/weights.best.from_scratch_pca.hdf5\n",
      "Epoch 11/30\n",
      " - 0s - loss: 0.6338 - acc: 0.7437 - val_loss: 0.6017 - val_acc: 0.7574\n",
      "\n",
      "Epoch 00011: val_loss improved from 0.60313 to 0.60167, saving model to saved_models/weights.best.from_scratch_pca.hdf5\n",
      "Epoch 12/30\n",
      " - 0s - loss: 0.6317 - acc: 0.7422 - val_loss: 0.6005 - val_acc: 0.7568\n",
      "\n",
      "Epoch 00012: val_loss improved from 0.60167 to 0.60047, saving model to saved_models/weights.best.from_scratch_pca.hdf5\n",
      "Epoch 13/30\n",
      " - 0s - loss: 0.6258 - acc: 0.7481 - val_loss: 0.5970 - val_acc: 0.7585\n",
      "\n",
      "Epoch 00013: val_loss improved from 0.60047 to 0.59699, saving model to saved_models/weights.best.from_scratch_pca.hdf5\n",
      "Epoch 14/30\n",
      " - 0s - loss: 0.6223 - acc: 0.7494 - val_loss: 0.5925 - val_acc: 0.7635\n",
      "\n",
      "Epoch 00014: val_loss improved from 0.59699 to 0.59248, saving model to saved_models/weights.best.from_scratch_pca.hdf5\n",
      "Epoch 15/30\n",
      " - 0s - loss: 0.6158 - acc: 0.7505 - val_loss: 0.5930 - val_acc: 0.7604\n",
      "\n",
      "Epoch 00015: val_loss did not improve from 0.59248\n",
      "Epoch 16/30\n",
      " - 0s - loss: 0.6164 - acc: 0.7492 - val_loss: 0.5894 - val_acc: 0.7637\n",
      "\n",
      "Epoch 00016: val_loss improved from 0.59248 to 0.58942, saving model to saved_models/weights.best.from_scratch_pca.hdf5\n",
      "Epoch 17/30\n",
      " - 0s - loss: 0.6094 - acc: 0.7531 - val_loss: 0.5886 - val_acc: 0.7631\n",
      "\n",
      "Epoch 00017: val_loss improved from 0.58942 to 0.58860, saving model to saved_models/weights.best.from_scratch_pca.hdf5\n",
      "Epoch 18/30\n",
      " - 0s - loss: 0.6103 - acc: 0.7498 - val_loss: 0.5876 - val_acc: 0.7649\n",
      "\n",
      "Epoch 00018: val_loss improved from 0.58860 to 0.58764, saving model to saved_models/weights.best.from_scratch_pca.hdf5\n",
      "Epoch 19/30\n",
      " - 0s - loss: 0.6065 - acc: 0.7518 - val_loss: 0.5859 - val_acc: 0.7624\n",
      "\n",
      "Epoch 00019: val_loss improved from 0.58764 to 0.58595, saving model to saved_models/weights.best.from_scratch_pca.hdf5\n",
      "Epoch 20/30\n",
      " - 0s - loss: 0.6033 - acc: 0.7550 - val_loss: 0.5824 - val_acc: 0.7668\n",
      "\n",
      "Epoch 00020: val_loss improved from 0.58595 to 0.58244, saving model to saved_models/weights.best.from_scratch_pca.hdf5\n",
      "Epoch 21/30\n",
      " - 0s - loss: 0.6019 - acc: 0.7546 - val_loss: 0.5829 - val_acc: 0.7652\n",
      "\n",
      "Epoch 00021: val_loss did not improve from 0.58244\n",
      "Epoch 22/30\n",
      " - 0s - loss: 0.5992 - acc: 0.7548 - val_loss: 0.5795 - val_acc: 0.7659\n",
      "\n",
      "Epoch 00022: val_loss improved from 0.58244 to 0.57945, saving model to saved_models/weights.best.from_scratch_pca.hdf5\n",
      "Epoch 23/30\n",
      " - 0s - loss: 0.5999 - acc: 0.7548 - val_loss: 0.5802 - val_acc: 0.7677\n",
      "\n",
      "Epoch 00023: val_loss did not improve from 0.57945\n",
      "Epoch 24/30\n",
      " - 0s - loss: 0.5988 - acc: 0.7566 - val_loss: 0.5800 - val_acc: 0.7672\n",
      "\n",
      "Epoch 00024: val_loss did not improve from 0.57945\n",
      "Epoch 25/30\n",
      " - 0s - loss: 0.5952 - acc: 0.7580 - val_loss: 0.5786 - val_acc: 0.7645\n",
      "\n",
      "Epoch 00025: val_loss improved from 0.57945 to 0.57861, saving model to saved_models/weights.best.from_scratch_pca.hdf5\n",
      "Epoch 26/30\n",
      " - 0s - loss: 0.5953 - acc: 0.7559 - val_loss: 0.5760 - val_acc: 0.7696\n",
      "\n",
      "Epoch 00026: val_loss improved from 0.57861 to 0.57604, saving model to saved_models/weights.best.from_scratch_pca.hdf5\n",
      "Epoch 27/30\n",
      " - 0s - loss: 0.5932 - acc: 0.7612 - val_loss: 0.5770 - val_acc: 0.7671\n",
      "\n",
      "Epoch 00027: val_loss did not improve from 0.57604\n",
      "Epoch 28/30\n",
      " - 0s - loss: 0.5908 - acc: 0.7588 - val_loss: 0.5757 - val_acc: 0.7699\n",
      "\n",
      "Epoch 00028: val_loss improved from 0.57604 to 0.57574, saving model to saved_models/weights.best.from_scratch_pca.hdf5\n",
      "Epoch 29/30\n",
      " - 0s - loss: 0.5879 - acc: 0.7593 - val_loss: 0.5768 - val_acc: 0.7684\n",
      "\n",
      "Epoch 00029: val_loss did not improve from 0.57574\n",
      "Epoch 30/30\n",
      " - 0s - loss: 0.5878 - acc: 0.7599 - val_loss: 0.5740 - val_acc: 0.7665\n",
      "\n",
      "Epoch 00030: val_loss improved from 0.57574 to 0.57401, saving model to saved_models/weights.best.from_scratch_pca.hdf5\n"
     ]
    }
   ],
   "source": [
    "epochs = 30\n",
    "\n",
    "#save best weights\n",
    "checkpointer = ModelCheckpoint(filepath='saved_models/weights.best.from_scratch_pca.hdf5', \n",
    "                               verbose=1, save_best_only=True)\n",
    "start = time()\n",
    "model2.fit(Xtrain_rd, y_train_, validation_data=(Xval_rd, y_val),\n",
    "          epochs=epochs, batch_size=256, callbacks=[checkpointer], verbose=2)\n",
    "stop = time()"
   ]
  },
  {
   "cell_type": "code",
   "execution_count": 89,
   "metadata": {},
   "outputs": [
    {
     "name": "stdout",
     "output_type": "stream",
     "text": [
      "time taken = 14.6705 second\n"
     ]
    }
   ],
   "source": [
    "print('time taken = {:.4f} second'.format(stop-start))"
   ]
  },
  {
   "cell_type": "code",
   "execution_count": 91,
   "metadata": {},
   "outputs": [
    {
     "name": "stdout",
     "output_type": "stream",
     "text": [
      "                                                  precision    recall  f1-score   support\n",
      "\n",
      "        Al-Qaida in the Arabian Peninsula (AQAP)       0.74      0.35      0.47       184\n",
      "                                      Al-Shabaab       0.79      0.89      0.83       461\n",
      "             Basque Fatherland and Freedom (ETA)       0.98      0.98      0.98       376\n",
      "                                      Boko Haram       0.84      0.72      0.77       372\n",
      "  Communist Party of India - Maoist (CPI-Maoist)       0.55      0.42      0.48       364\n",
      "Farabundo Marti National Liberation Front (FMLN)       1.00      1.00      1.00       534\n",
      "                 Houthi extremists (Ansar Allah)       0.80      0.61      0.69       166\n",
      "                     Irish Republican Army (IRA)       0.96      0.95      0.96       327\n",
      "     Islamic State of Iraq and the Levant (ISIL)       0.86      0.97      0.91       916\n",
      "                  Kurdistan Workers' Party (PKK)       0.84      0.91      0.87       457\n",
      "         Liberation Tigers of Tamil Eelam (LTTE)       0.62      0.37      0.47       312\n",
      "         Manuel Rodriguez Patriotic Front (FPMR)       0.00      0.00      0.00       157\n",
      "                                         Maoists       1.00      1.00      1.00       298\n",
      "      National Liberation Army of Colombia (ELN)       0.44      0.30      0.35       270\n",
      "                         New People's Army (NPA)       1.00      1.00      1.00       541\n",
      "                                    Palestinians       0.90      0.81      0.86       193\n",
      "   Revolutionary Armed Forces of Colombia (FARC)       0.58      0.31      0.40       480\n",
      "                               Shining Path (SL)       0.56      0.89      0.69       797\n",
      "                                         Taliban       0.69      0.92      0.79      1324\n",
      "                 Tehrik-i-Taliban Pakistan (TTP)       0.39      0.03      0.05       250\n",
      "\n",
      "                                       micro avg       0.77      0.77      0.77      8779\n",
      "                                       macro avg       0.73      0.67      0.68      8779\n",
      "                                    weighted avg       0.75      0.77      0.74      8779\n",
      "\n"
     ]
    }
   ],
   "source": [
    "#Load the Model with the Best Validation Loss\n",
    "model2.load_weights('saved_models/weights.best.from_scratch_pca.hdf5')\n",
    "\n",
    "gname_predictions_2 = model2.predict_classes(Xtest_rd)\n",
    "print(classification_report(Y_test, gname_predictions_2, target_names=gname_lst_ohe))"
   ]
  },
  {
   "cell_type": "markdown",
   "metadata": {},
   "source": [
    "### Summary of Multiclass Classification\n",
    "\n",
    "The performance of 20-class classification with redused number of features is marginally worse compared to that using all features. But again the savings is in time.\n",
    "\n",
    "There are 4 classess with perfect scores, 2 classess with precision and f-score > 0.9.\n",
    "There are 4 classess with below average results. It is to be noted that these are the classess with lowest data."
   ]
  },
  {
   "cell_type": "markdown",
   "metadata": {},
   "source": [
    "### A final word"
   ]
  },
  {
   "cell_type": "markdown",
   "metadata": {},
   "source": [
    "(GTD Cookbook has been used for reference with respect to information contained in GTD dataset.)\n",
    "\n",
    "Some additional analysis which when performed will improve the results considerably:\n",
    "1. Testing different ML models\n",
    "2. Use of more/additional feature(among dropped features)\n",
    "3. Model to classify more terrorist groups"
   ]
  }
 ],
 "metadata": {
  "kernelspec": {
   "display_name": "Python 3",
   "language": "python",
   "name": "python3"
  },
  "language_info": {
   "codemirror_mode": {
    "name": "ipython",
    "version": 3
   },
   "file_extension": ".py",
   "mimetype": "text/x-python",
   "name": "python",
   "nbconvert_exporter": "python",
   "pygments_lexer": "ipython3",
   "version": "3.6.6"
  }
 },
 "nbformat": 4,
 "nbformat_minor": 2
}
